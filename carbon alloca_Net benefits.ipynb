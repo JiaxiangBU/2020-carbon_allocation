{
 "cells": [
  {
   "cell_type": "code",
   "execution_count": 14,
   "metadata": {
    "scrolled": true
   },
   "outputs": [
    {
     "name": "stdout",
     "output_type": "stream",
     "text": [
      "The nb_black extension is already loaded. To reload it, use:\n",
      "  %reload_ext nb_black\n"
     ]
    },
    {
     "data": {
      "application/javascript": [
       "\n",
       "            setTimeout(function() {\n",
       "                var nbb_cell_id = 14;\n",
       "                var nbb_unformatted_code = \"from DEA import DEAProblem\\nfrom pandas import ExcelWriter\\n\\nimport numpy as np\\nimport os\\nimport pandas as pd\\nimport pickle\\nimport pulp\\n\\n\\n%load_ext nb_black\";\n",
       "                var nbb_formatted_code = \"from DEA import DEAProblem\\nfrom pandas import ExcelWriter\\n\\nimport numpy as np\\nimport os\\nimport pandas as pd\\nimport pickle\\nimport pulp\\n\\n\\n%load_ext nb_black\";\n",
       "                var nbb_cells = Jupyter.notebook.get_cells();\n",
       "                for (var i = 0; i < nbb_cells.length; ++i) {\n",
       "                    if (nbb_cells[i].input_prompt_number == nbb_cell_id) {\n",
       "                        if (nbb_cells[i].get_text() == nbb_unformatted_code) {\n",
       "                             nbb_cells[i].set_text(nbb_formatted_code);\n",
       "                        }\n",
       "                        break;\n",
       "                    }\n",
       "                }\n",
       "            }, 500);\n",
       "            "
      ],
      "text/plain": [
       "<IPython.core.display.Javascript object>"
      ]
     },
     "metadata": {},
     "output_type": "display_data"
    }
   ],
   "source": [
    "from DEA import DEAProblem\n",
    "from pandas import ExcelWriter\n",
    "\n",
    "import numpy as np\n",
    "import os\n",
    "import pandas as pd\n",
    "import pickle\n",
    "import pulp\n",
    "\n",
    "\n",
    "%load_ext nb_black"
   ]
  },
  {
   "cell_type": "code",
   "execution_count": 2,
   "metadata": {
    "scrolled": true
   },
   "outputs": [
    {
     "data": {
      "application/javascript": [
       "\n",
       "            setTimeout(function() {\n",
       "                var nbb_cell_id = 2;\n",
       "                var nbb_unformatted_code = \"file_lstm = r\\\"Data_lstm.pickle\\\"\\n\\n\\ndef read_dataframe(path, file_lstm=file_lstm):\\n    \\\"\\\"\\\"\\n    This function read dataFrame from a pickle file. \\n    THe pickle file stores predicted macroeconomic data of China from 2000-2030\\n    \\n    read_dataframe(path, file_lstm=file_lstm)\\n        Return DataFrame contains labor, capital, energy consumption, GDP, and CO2 emission data of 30 provinces in 2000-2030\\n        \\n        Parameters\\n        ----------\\n        path: file path\\n        file_lstm: name of the pickle file, default is (file_lstm = r\\\"Data_lstm.pickle\\\")\\n    \\\"\\\"\\\"\\n    os.chdir(path)\\n    with open(file_lstm, \\\"rb\\\") as file:\\n        data_df = pickle.load(file)\\n    return data_df\";\n",
       "                var nbb_formatted_code = \"file_lstm = r\\\"Data_lstm.pickle\\\"\\n\\n\\ndef read_dataframe(path, file_lstm=file_lstm):\\n    \\\"\\\"\\\"\\n    This function read dataFrame from a pickle file.\\n    THe pickle file stores predicted macroeconomic data of China from 2000-2030\\n\\n    read_dataframe(path, file_lstm=file_lstm)\\n        Return DataFrame contains labor, capital, energy consumption, GDP, and CO2 emission data of 30 provinces in 2000-2030\\n\\n        Parameters\\n        ----------\\n        path: file path\\n        file_lstm: name of the pickle file, default is (file_lstm = r\\\"Data_lstm.pickle\\\")\\n    \\\"\\\"\\\"\\n    os.chdir(path)\\n    with open(file_lstm, \\\"rb\\\") as file:\\n        data_df = pickle.load(file)\\n    return data_df\";\n",
       "                var nbb_cells = Jupyter.notebook.get_cells();\n",
       "                for (var i = 0; i < nbb_cells.length; ++i) {\n",
       "                    if (nbb_cells[i].input_prompt_number == nbb_cell_id) {\n",
       "                        if (nbb_cells[i].get_text() == nbb_unformatted_code) {\n",
       "                             nbb_cells[i].set_text(nbb_formatted_code);\n",
       "                        }\n",
       "                        break;\n",
       "                    }\n",
       "                }\n",
       "            }, 500);\n",
       "            "
      ],
      "text/plain": [
       "<IPython.core.display.Javascript object>"
      ]
     },
     "metadata": {},
     "output_type": "display_data"
    }
   ],
   "source": [
    "file_lstm = r\"Data_lstm.pickle\"\n",
    "\n",
    "\n",
    "def read_dataframe(path, file_lstm=file_lstm):\n",
    "    \"\"\"\n",
    "    This function read dataFrame from a pickle file.\n",
    "    THe pickle file stores predicted macroeconomic data of China from 2000-2030\n",
    "\n",
    "    read_dataframe(path, file_lstm=file_lstm)\n",
    "        Return DataFrame contains labor, capital, energy consumption, GDP, and CO2 emission data of 30 provinces in 2000-2030\n",
    "\n",
    "        Parameters\n",
    "        ----------\n",
    "        path: file path\n",
    "        file_lstm: name of the pickle file, default is (file_lstm = r\"Data_lstm.pickle\")\n",
    "    \"\"\"\n",
    "    os.chdir(path)\n",
    "    with open(file_lstm, \"rb\") as file:\n",
    "        data_df = pickle.load(file)\n",
    "    return data_df"
   ]
  },
  {
   "cell_type": "code",
   "execution_count": 3,
   "metadata": {
    "scrolled": true
   },
   "outputs": [
    {
     "data": {
      "application/javascript": [
       "\n",
       "            setTimeout(function() {\n",
       "                var nbb_cell_id = 3;\n",
       "                var nbb_unformatted_code = \"def read_data(data, column_name, year):\\n    \\\"\\\"\\\"\\n    This function find desired data through screening\\n    \\n    read_data(data, column_name, year)\\n        Return DataFrame contains desired data content\\n        \\n        Paramters\\n        ---------\\n        data: DataFrame, original DataFrame contains all data\\n        column_name: list/string, desired columns from data\\n        year: int, desired year\\n    \\\"\\\"\\\"\\n    data_col = data.loc[:, column_name]\\n    data_col_year = data_col.loc[data_col.index.get_level_values(1) == year]\\n    return data_col_year\";\n",
       "                var nbb_formatted_code = \"def read_data(data, column_name, year):\\n    \\\"\\\"\\\"\\n    This function find desired data through screening\\n\\n    read_data(data, column_name, year)\\n        Return DataFrame contains desired data content\\n\\n        Paramters\\n        ---------\\n        data: DataFrame, original DataFrame contains all data\\n        column_name: list/string, desired columns from data\\n        year: int, desired year\\n    \\\"\\\"\\\"\\n    data_col = data.loc[:, column_name]\\n    data_col_year = data_col.loc[data_col.index.get_level_values(1) == year]\\n    return data_col_year\";\n",
       "                var nbb_cells = Jupyter.notebook.get_cells();\n",
       "                for (var i = 0; i < nbb_cells.length; ++i) {\n",
       "                    if (nbb_cells[i].input_prompt_number == nbb_cell_id) {\n",
       "                        if (nbb_cells[i].get_text() == nbb_unformatted_code) {\n",
       "                             nbb_cells[i].set_text(nbb_formatted_code);\n",
       "                        }\n",
       "                        break;\n",
       "                    }\n",
       "                }\n",
       "            }, 500);\n",
       "            "
      ],
      "text/plain": [
       "<IPython.core.display.Javascript object>"
      ]
     },
     "metadata": {},
     "output_type": "display_data"
    }
   ],
   "source": [
    "def read_data(data, column_name, year):\n",
    "    \"\"\"\n",
    "    This function find desired data through screening\n",
    "\n",
    "    read_data(data, column_name, year)\n",
    "        Return DataFrame contains desired data content\n",
    "\n",
    "        Paramters\n",
    "        ---------\n",
    "        data: DataFrame, original DataFrame contains all data\n",
    "        column_name: list/string, desired columns from data\n",
    "        year: int, desired year\n",
    "    \"\"\"\n",
    "    data_col = data.loc[:, column_name]\n",
    "    data_col_year = data_col.loc[data_col.index.get_level_values(1) == year]\n",
    "    return data_col_year"
   ]
  },
  {
   "cell_type": "code",
   "execution_count": 4,
   "metadata": {
    "scrolled": true
   },
   "outputs": [
    {
     "data": {
      "application/javascript": [
       "\n",
       "            setTimeout(function() {\n",
       "                var nbb_cell_id = 4;\n",
       "                var nbb_unformatted_code = \"def calc_eff(year, data, weight, disp=\\\"weak disposability\\\"):\\n    data_in = read_data(data, column_in, year)\\n    data_out = read_data(data, column_out, year)\\n    data_undout = read_data(data, column_undout, year)\\n    names = pd.DataFrame([i for i, _ in read_data(data, column_undout, year).index])\\n    solve = DEAProblem(data_in, data_out, data_undout, weight, disp=disp).solve()\\n    status = pd.DataFrame.from_dict(solve[0], orient=\\\"index\\\", columns=[\\\"status\\\"])\\n    efficiency = pd.DataFrame.from_dict(\\n        solve[1], orient=\\\"index\\\", columns=[\\\"efficiency\\\"]\\n    )\\n    weight = pd.DataFrame.from_dict(solve[2], orient=\\\"index\\\")\\n    results = pd.concat([names, status, efficiency, weight], axis=1)\\n    return results\";\n",
       "                var nbb_formatted_code = \"def calc_eff(year, data, weight, disp=\\\"weak disposability\\\"):\\n    data_in = read_data(data, column_in, year)\\n    data_out = read_data(data, column_out, year)\\n    data_undout = read_data(data, column_undout, year)\\n    names = pd.DataFrame([i for i, _ in read_data(data, column_undout, year).index])\\n    solve = DEAProblem(data_in, data_out, data_undout, weight, disp=disp).solve()\\n    status = pd.DataFrame.from_dict(solve[0], orient=\\\"index\\\", columns=[\\\"status\\\"])\\n    efficiency = pd.DataFrame.from_dict(\\n        solve[1], orient=\\\"index\\\", columns=[\\\"efficiency\\\"]\\n    )\\n    weight = pd.DataFrame.from_dict(solve[2], orient=\\\"index\\\")\\n    results = pd.concat([names, status, efficiency, weight], axis=1)\\n    return results\";\n",
       "                var nbb_cells = Jupyter.notebook.get_cells();\n",
       "                for (var i = 0; i < nbb_cells.length; ++i) {\n",
       "                    if (nbb_cells[i].input_prompt_number == nbb_cell_id) {\n",
       "                        if (nbb_cells[i].get_text() == nbb_unformatted_code) {\n",
       "                             nbb_cells[i].set_text(nbb_formatted_code);\n",
       "                        }\n",
       "                        break;\n",
       "                    }\n",
       "                }\n",
       "            }, 500);\n",
       "            "
      ],
      "text/plain": [
       "<IPython.core.display.Javascript object>"
      ]
     },
     "metadata": {},
     "output_type": "display_data"
    }
   ],
   "source": [
    "def calc_eff(year, data, weight, disp=\"weak disposability\"):\n",
    "    data_in = read_data(data, column_in, year)\n",
    "    data_out = read_data(data, column_out, year)\n",
    "    data_undout = read_data(data, column_undout, year)\n",
    "    names = pd.DataFrame([i for i, _ in read_data(data, column_undout, year).index])\n",
    "    solve = DEAProblem(data_in, data_out, data_undout, weight, disp=disp).solve()\n",
    "    status = pd.DataFrame.from_dict(solve[0], orient=\"index\", columns=[\"status\"])\n",
    "    efficiency = pd.DataFrame.from_dict(\n",
    "        solve[1], orient=\"index\", columns=[\"efficiency\"]\n",
    "    )\n",
    "    weight = pd.DataFrame.from_dict(solve[2], orient=\"index\")\n",
    "    results = pd.concat([names, status, efficiency, weight], axis=1)\n",
    "    return results"
   ]
  },
  {
   "cell_type": "code",
   "execution_count": 5,
   "metadata": {
    "scrolled": true
   },
   "outputs": [
    {
     "data": {
      "application/javascript": [
       "\n",
       "            setTimeout(function() {\n",
       "                var nbb_cell_id = 5;\n",
       "                var nbb_unformatted_code = \"path = r\\\"D:\\\\tencent files\\\\chrome Download\\\\Research\\\\DEA\\\\DEA_carbon market\\\\Data\\\"\";\n",
       "                var nbb_formatted_code = \"path = r\\\"D:\\\\tencent files\\\\chrome Download\\\\Research\\\\DEA\\\\DEA_carbon market\\\\Data\\\"\";\n",
       "                var nbb_cells = Jupyter.notebook.get_cells();\n",
       "                for (var i = 0; i < nbb_cells.length; ++i) {\n",
       "                    if (nbb_cells[i].input_prompt_number == nbb_cell_id) {\n",
       "                        if (nbb_cells[i].get_text() == nbb_unformatted_code) {\n",
       "                             nbb_cells[i].set_text(nbb_formatted_code);\n",
       "                        }\n",
       "                        break;\n",
       "                    }\n",
       "                }\n",
       "            }, 500);\n",
       "            "
      ],
      "text/plain": [
       "<IPython.core.display.Javascript object>"
      ]
     },
     "metadata": {},
     "output_type": "display_data"
    }
   ],
   "source": [
    "path = r\"D:\\tencent files\\chrome Download\\Research\\DEA\\DEA_carbon market\\Data\""
   ]
  },
  {
   "cell_type": "code",
   "execution_count": 6,
   "metadata": {
    "scrolled": true
   },
   "outputs": [
    {
     "data": {
      "application/javascript": [
       "\n",
       "            setTimeout(function() {\n",
       "                var nbb_cell_id = 6;\n",
       "                var nbb_unformatted_code = \"def read_zsg_data(year, path=path):\\n    os.chdir(os.path.join(path, \\\"DEA_results\\\"))\\n    file_name_list = os.listdir()\\n    file = [file for file in file_name_list if str(year) in file][0]\\n    with open(file, \\\"rb\\\") as zsg_data:\\n        data_df = pickle.load(zsg_data).loc[:, [0, \\\"hri_score\\\"]]\\n    return data_df\";\n",
       "                var nbb_formatted_code = \"def read_zsg_data(year, path=path):\\n    os.chdir(os.path.join(path, \\\"DEA_results\\\"))\\n    file_name_list = os.listdir()\\n    file = [file for file in file_name_list if str(year) in file][0]\\n    with open(file, \\\"rb\\\") as zsg_data:\\n        data_df = pickle.load(zsg_data).loc[:, [0, \\\"hri_score\\\"]]\\n    return data_df\";\n",
       "                var nbb_cells = Jupyter.notebook.get_cells();\n",
       "                for (var i = 0; i < nbb_cells.length; ++i) {\n",
       "                    if (nbb_cells[i].input_prompt_number == nbb_cell_id) {\n",
       "                        if (nbb_cells[i].get_text() == nbb_unformatted_code) {\n",
       "                             nbb_cells[i].set_text(nbb_formatted_code);\n",
       "                        }\n",
       "                        break;\n",
       "                    }\n",
       "                }\n",
       "            }, 500);\n",
       "            "
      ],
      "text/plain": [
       "<IPython.core.display.Javascript object>"
      ]
     },
     "metadata": {},
     "output_type": "display_data"
    }
   ],
   "source": [
    "def read_zsg_data(year, path=path):\n",
    "    os.chdir(os.path.join(path, \"DEA_results\"))\n",
    "    file_name_list = os.listdir()\n",
    "    file = [file for file in file_name_list if str(year) in file][0]\n",
    "    with open(file, \"rb\") as zsg_data:\n",
    "        data_df = pickle.load(zsg_data).loc[:, [0, \"hri_score\"]]\n",
    "    return data_df"
   ]
  },
  {
   "cell_type": "code",
   "execution_count": 7,
   "metadata": {
    "scrolled": true
   },
   "outputs": [
    {
     "data": {
      "application/javascript": [
       "\n",
       "            setTimeout(function() {\n",
       "                var nbb_cell_id = 7;\n",
       "                var nbb_unformatted_code = \"def zsg_carbon_emission(year, original_data):\\n    zsg_eff = read_zsg_data(year)\\n    data_undout = read_data(original_data, column_undout, year)\\n    zsg_carbon = pd.DataFrame(\\n        np.array(data_undout.iloc[:, -1]) * np.array(zsg_eff.loc[:, \\\"hri_score\\\"]),\\n        columns=[\\\"zsg_CO2\\\"],\\n    )\\n    zsg_carbon = pd.concat([zsg_eff, zsg_carbon], axis=1)\\n    return zsg_carbon\";\n",
       "                var nbb_formatted_code = \"def zsg_carbon_emission(year, original_data):\\n    zsg_eff = read_zsg_data(year)\\n    data_undout = read_data(original_data, column_undout, year)\\n    zsg_carbon = pd.DataFrame(\\n        np.array(data_undout.iloc[:, -1]) * np.array(zsg_eff.loc[:, \\\"hri_score\\\"]),\\n        columns=[\\\"zsg_CO2\\\"],\\n    )\\n    zsg_carbon = pd.concat([zsg_eff, zsg_carbon], axis=1)\\n    return zsg_carbon\";\n",
       "                var nbb_cells = Jupyter.notebook.get_cells();\n",
       "                for (var i = 0; i < nbb_cells.length; ++i) {\n",
       "                    if (nbb_cells[i].input_prompt_number == nbb_cell_id) {\n",
       "                        if (nbb_cells[i].get_text() == nbb_unformatted_code) {\n",
       "                             nbb_cells[i].set_text(nbb_formatted_code);\n",
       "                        }\n",
       "                        break;\n",
       "                    }\n",
       "                }\n",
       "            }, 500);\n",
       "            "
      ],
      "text/plain": [
       "<IPython.core.display.Javascript object>"
      ]
     },
     "metadata": {},
     "output_type": "display_data"
    }
   ],
   "source": [
    "def zsg_carbon_emission(year, original_data):\n",
    "    zsg_eff = read_zsg_data(year)\n",
    "    data_undout = read_data(original_data, column_undout, year)\n",
    "    zsg_carbon = pd.DataFrame(\n",
    "        np.array(data_undout.iloc[:, -1]) * np.array(zsg_eff.loc[:, \"hri_score\"]),\n",
    "        columns=[\"zsg_CO2\"],\n",
    "    )\n",
    "    zsg_carbon = pd.concat([zsg_eff, zsg_carbon], axis=1)\n",
    "    return zsg_carbon"
   ]
  },
  {
   "cell_type": "code",
   "execution_count": 8,
   "metadata": {
    "scrolled": true
   },
   "outputs": [
    {
     "data": {
      "application/javascript": [
       "\n",
       "            setTimeout(function() {\n",
       "                var nbb_cell_id = 8;\n",
       "                var nbb_unformatted_code = \"data = read_dataframe(os.path.join(path))\\n\\ncolumn_in = [\\\"Population\\\", \\\"Fixed asset\\\", \\\"Energy consumption\\\"]\\ncolumn_out = [\\\"GDP\\\"]\\ncolumn_undout = [\\\"CO2 emisson\\\"]\\nweight = [0, 0, 0, 1 / 2, 1 / 2]\";\n",
       "                var nbb_formatted_code = \"data = read_dataframe(os.path.join(path))\\n\\ncolumn_in = [\\\"Population\\\", \\\"Fixed asset\\\", \\\"Energy consumption\\\"]\\ncolumn_out = [\\\"GDP\\\"]\\ncolumn_undout = [\\\"CO2 emisson\\\"]\\nweight = [0, 0, 0, 1 / 2, 1 / 2]\";\n",
       "                var nbb_cells = Jupyter.notebook.get_cells();\n",
       "                for (var i = 0; i < nbb_cells.length; ++i) {\n",
       "                    if (nbb_cells[i].input_prompt_number == nbb_cell_id) {\n",
       "                        if (nbb_cells[i].get_text() == nbb_unformatted_code) {\n",
       "                             nbb_cells[i].set_text(nbb_formatted_code);\n",
       "                        }\n",
       "                        break;\n",
       "                    }\n",
       "                }\n",
       "            }, 500);\n",
       "            "
      ],
      "text/plain": [
       "<IPython.core.display.Javascript object>"
      ]
     },
     "metadata": {},
     "output_type": "display_data"
    }
   ],
   "source": [
    "data = read_dataframe(os.path.join(path))\n",
    "\n",
    "column_in = [\"Population\", \"Fixed asset\", \"Energy consumption\"]\n",
    "column_out = [\"GDP\"]\n",
    "column_undout = [\"CO2 emisson\"]\n",
    "weight = [0, 0, 0, 1 / 2, 1 / 2]"
   ]
  },
  {
   "cell_type": "code",
   "execution_count": 9,
   "metadata": {
    "scrolled": true
   },
   "outputs": [
    {
     "data": {
      "application/javascript": [
       "\n",
       "            setTimeout(function() {\n",
       "                var nbb_cell_id = 9;\n",
       "                var nbb_unformatted_code = \"def concat_zsg_data(year, DMU_name, original_data=data):\\n    \\\"\\\"\\\"\\n    This function concatnate \\n    \\\"\\\"\\\"\\n    zsg_carbon = zsg_carbon_emission(year, original_data)\\n    zsg_CO2_DMU = zsg_carbon[zsg_carbon.loc[:, 0] == DMU_name].iloc[0, -1]\\n    data_year = original_data[original_data.index.get_level_values(1) == year]\\n    zsg_inout = original_data.loc[[(DMU_name, year)], :]\\n    zsg_inout.iloc[:, -1] = zsg_CO2_DMU\\n    ddf_data = pd.concat([data_year, zsg_inout], axis=0)\\n    return ddf_data\";\n",
       "                var nbb_formatted_code = \"def concat_zsg_data(year, DMU_name, original_data=data):\\n    \\\"\\\"\\\"\\n    This function concatnate\\n    \\\"\\\"\\\"\\n    zsg_carbon = zsg_carbon_emission(year, original_data)\\n    zsg_CO2_DMU = zsg_carbon[zsg_carbon.loc[:, 0] == DMU_name].iloc[0, -1]\\n    data_year = original_data[original_data.index.get_level_values(1) == year]\\n    zsg_inout = original_data.loc[[(DMU_name, year)], :]\\n    zsg_inout.iloc[:, -1] = zsg_CO2_DMU\\n    ddf_data = pd.concat([data_year, zsg_inout], axis=0)\\n    return ddf_data\";\n",
       "                var nbb_cells = Jupyter.notebook.get_cells();\n",
       "                for (var i = 0; i < nbb_cells.length; ++i) {\n",
       "                    if (nbb_cells[i].input_prompt_number == nbb_cell_id) {\n",
       "                        if (nbb_cells[i].get_text() == nbb_unformatted_code) {\n",
       "                             nbb_cells[i].set_text(nbb_formatted_code);\n",
       "                        }\n",
       "                        break;\n",
       "                    }\n",
       "                }\n",
       "            }, 500);\n",
       "            "
      ],
      "text/plain": [
       "<IPython.core.display.Javascript object>"
      ]
     },
     "metadata": {},
     "output_type": "display_data"
    }
   ],
   "source": [
    "def concat_zsg_data(year, DMU_name, original_data=data):\n",
    "    \"\"\"\n",
    "    This function concatnate\n",
    "    \"\"\"\n",
    "    zsg_carbon = zsg_carbon_emission(year, original_data)\n",
    "    zsg_CO2_DMU = zsg_carbon[zsg_carbon.loc[:, 0] == DMU_name].iloc[0, -1]\n",
    "    data_year = original_data[original_data.index.get_level_values(1) == year]\n",
    "    zsg_inout = original_data.loc[[(DMU_name, year)], :]\n",
    "    zsg_inout.iloc[:, -1] = zsg_CO2_DMU\n",
    "    ddf_data = pd.concat([data_year, zsg_inout], axis=0)\n",
    "    return ddf_data"
   ]
  },
  {
   "cell_type": "code",
   "execution_count": 10,
   "metadata": {},
   "outputs": [
    {
     "data": {
      "application/javascript": [
       "\n",
       "            setTimeout(function() {\n",
       "                var nbb_cell_id = 10;\n",
       "                var nbb_unformatted_code = \"def calc_econ_benefit(path, year, DMU_name, weight=weight, disp=\\\"weak disposability\\\"):\\n    \\\"\\\"\\\"\\n    This function calculate economic welfare change due to carbon emission right allocation\\n\\n    calc_econ_benefit(path, year,DMU_name,weight=weight, disp = \\\"weak disposability\\\")\\n        Return the economic welfare change of a DMU in year due to carbon emission right allocation (DataFrame)\\n\\n        Paramters\\n        ---------\\n        path: the path that store the lstm prediction results on macroeconomic factors\\n        year: stands for the year to calculate carbon emission right allocation\\n        DMU_name: represents the DMU to calculate economic welfare change\\n        weight: weight vector in DDF calculation\\n        disp: assumption adopted in DEA model\\n    \\\"\\\"\\\"\\n\\n    zsg_ddf_data = concat_zsg_data(year, DMU_name)\\n    zsg_results = calc_eff(year, zsg_ddf_data, weight, disp=disp)    \\n    \\n    scal_fac_b0 = zsg_results[zsg_results.loc[:, 0] == DMU_name][\\n        \\\"scalingFactor_b_0\\\"\\n    ].iloc[0]\\n    scal_fac_y0 = zsg_results[zsg_results.loc[:, 0] == DMU_name][\\n        \\\"scalingFactor_y_0\\\"\\n    ].iloc[0]\\n    scal_fac_b1 = zsg_results[zsg_results.loc[:, 0] == DMU_name][\\n        \\\"scalingFactor_b_0\\\"\\n    ].iloc[1]\\n    scal_fac_y1 = zsg_results[zsg_results.loc[:, 0] == DMU_name][\\n        \\\"scalingFactor_y_0\\\"\\n    ].iloc[1]\\n\\n    scal_fac_y0_potential = ((1 - scal_fac_b0) / 1 - (1 - scal_fac_b1) / 1) / (\\n        (1 + scal_fac_y0) * (1 - scal_fac_b0)\\n    )  \\n    # the expression of economic welfare change coefficient calculate economic welfare change due to emission right change\\n    # the expression assumes carbon productivity of additional carbon emissions keeps constant\\n    # the first item (1 - scal_fac_b0) / 1 - (1 - scal_fac_b1) / 1) expresses the change in carbon emission efficiency\\n    # the item (1 - scal_fac_b0) / 1 expresses original carbon emission efficiency\\n    # the item (1 - scal_fac_b1) / 1 expresses carbon emission efficiency after emission right allocation\\n    # the second term 1/((1 + scal_fac_y0) * (1 - scal_fac_b0)) express carbon productivity of original DMU\\n    # the item 1/(1 + scal_fac_y0) expresses economic efficiency\\n    # the item 1/(1 - scal_fac_b0) expresses carbon emission efficiency\\n\\n    data = read_dataframe(os.path.join(path))\\n    data_out = read_data(data, column_out, year)\\n    gdp_DMU = data_out[data_out.index.get_level_values(0) == DMU_name]\\n    eco_ben = scal_fac_y0_potential * gdp_DMU\\n    return eco_ben\";\n",
       "                var nbb_formatted_code = \"def calc_econ_benefit(path, year, DMU_name, weight=weight, disp=\\\"weak disposability\\\"):\\n    \\\"\\\"\\\"\\n    This function calculate economic welfare change due to carbon emission right allocation\\n\\n    calc_econ_benefit(path, year,DMU_name,weight=weight, disp = \\\"weak disposability\\\")\\n        Return the economic welfare change of a DMU in year due to carbon emission right allocation (DataFrame)\\n\\n        Paramters\\n        ---------\\n        path: the path that store the lstm prediction results on macroeconomic factors\\n        year: stands for the year to calculate carbon emission right allocation\\n        DMU_name: represents the DMU to calculate economic welfare change\\n        weight: weight vector in DDF calculation\\n        disp: assumption adopted in DEA model\\n    \\\"\\\"\\\"\\n\\n    zsg_ddf_data = concat_zsg_data(year, DMU_name)\\n    zsg_results = calc_eff(year, zsg_ddf_data, weight, disp=disp)\\n\\n    scal_fac_b0 = zsg_results[zsg_results.loc[:, 0] == DMU_name][\\n        \\\"scalingFactor_b_0\\\"\\n    ].iloc[0]\\n    scal_fac_y0 = zsg_results[zsg_results.loc[:, 0] == DMU_name][\\n        \\\"scalingFactor_y_0\\\"\\n    ].iloc[0]\\n    scal_fac_b1 = zsg_results[zsg_results.loc[:, 0] == DMU_name][\\n        \\\"scalingFactor_b_0\\\"\\n    ].iloc[1]\\n    scal_fac_y1 = zsg_results[zsg_results.loc[:, 0] == DMU_name][\\n        \\\"scalingFactor_y_0\\\"\\n    ].iloc[1]\\n\\n    scal_fac_y0_potential = ((1 - scal_fac_b0) / 1 - (1 - scal_fac_b1) / 1) / (\\n        (1 + scal_fac_y0) * (1 - scal_fac_b0)\\n    )\\n    # the expression of economic welfare change coefficient calculate economic welfare change due to emission right change\\n    # the expression assumes carbon productivity of additional carbon emissions keeps constant\\n    # the first item (1 - scal_fac_b0) / 1 - (1 - scal_fac_b1) / 1) expresses the change in carbon emission efficiency\\n    # the item (1 - scal_fac_b0) / 1 expresses original carbon emission efficiency\\n    # the item (1 - scal_fac_b1) / 1 expresses carbon emission efficiency after emission right allocation\\n    # the second term 1/((1 + scal_fac_y0) * (1 - scal_fac_b0)) express carbon productivity of original DMU\\n    # the item 1/(1 + scal_fac_y0) expresses economic efficiency\\n    # the item 1/(1 - scal_fac_b0) expresses carbon emission efficiency\\n\\n    data = read_dataframe(os.path.join(path))\\n    data_out = read_data(data, column_out, year)\\n    gdp_DMU = data_out[data_out.index.get_level_values(0) == DMU_name]\\n    eco_ben = scal_fac_y0_potential * gdp_DMU\\n    return eco_ben\";\n",
       "                var nbb_cells = Jupyter.notebook.get_cells();\n",
       "                for (var i = 0; i < nbb_cells.length; ++i) {\n",
       "                    if (nbb_cells[i].input_prompt_number == nbb_cell_id) {\n",
       "                        if (nbb_cells[i].get_text() == nbb_unformatted_code) {\n",
       "                             nbb_cells[i].set_text(nbb_formatted_code);\n",
       "                        }\n",
       "                        break;\n",
       "                    }\n",
       "                }\n",
       "            }, 500);\n",
       "            "
      ],
      "text/plain": [
       "<IPython.core.display.Javascript object>"
      ]
     },
     "metadata": {},
     "output_type": "display_data"
    }
   ],
   "source": [
    "def calc_econ_benefit(path, year, DMU_name, weight=weight, disp=\"weak disposability\"):\n",
    "    \"\"\"\n",
    "    This function calculate economic welfare change due to carbon emission right allocation\n",
    "\n",
    "    calc_econ_benefit(path, year,DMU_name,weight=weight, disp = \"weak disposability\")\n",
    "        Return the economic welfare change of a DMU in year due to carbon emission right allocation (DataFrame)\n",
    "\n",
    "        Paramters\n",
    "        ---------\n",
    "        path: the path that store the lstm prediction results on macroeconomic factors\n",
    "        year: stands for the year to calculate carbon emission right allocation\n",
    "        DMU_name: represents the DMU to calculate economic welfare change\n",
    "        weight: weight vector in DDF calculation\n",
    "        disp: assumption adopted in DEA model\n",
    "    \"\"\"\n",
    "\n",
    "    zsg_ddf_data = concat_zsg_data(year, DMU_name)\n",
    "    zsg_results = calc_eff(year, zsg_ddf_data, weight, disp=disp)\n",
    "\n",
    "    scal_fac_b0 = zsg_results[zsg_results.loc[:, 0] == DMU_name][\n",
    "        \"scalingFactor_b_0\"\n",
    "    ].iloc[0]\n",
    "    scal_fac_y0 = zsg_results[zsg_results.loc[:, 0] == DMU_name][\n",
    "        \"scalingFactor_y_0\"\n",
    "    ].iloc[0]\n",
    "    scal_fac_b1 = zsg_results[zsg_results.loc[:, 0] == DMU_name][\n",
    "        \"scalingFactor_b_0\"\n",
    "    ].iloc[1]\n",
    "    scal_fac_y1 = zsg_results[zsg_results.loc[:, 0] == DMU_name][\n",
    "        \"scalingFactor_y_0\"\n",
    "    ].iloc[1]\n",
    "\n",
    "    scal_fac_y0_potential = ((1 - scal_fac_b0) / 1 - (1 - scal_fac_b1) / 1) / (\n",
    "        (1 + scal_fac_y0) * (1 - scal_fac_b0)\n",
    "    )\n",
    "    # the expression of economic welfare change coefficient calculate economic welfare change due to emission right change\n",
    "    # the expression assumes carbon productivity of additional carbon emissions keeps constant\n",
    "    # the first item (1 - scal_fac_b0) / 1 - (1 - scal_fac_b1) / 1) expresses the change in carbon emission efficiency\n",
    "    # the item (1 - scal_fac_b0) / 1 expresses original carbon emission efficiency\n",
    "    # the item (1 - scal_fac_b1) / 1 expresses carbon emission efficiency after emission right allocation\n",
    "    # the second term 1/((1 + scal_fac_y0) * (1 - scal_fac_b0)) express carbon productivity of original DMU\n",
    "    # the item 1/(1 + scal_fac_y0) expresses economic efficiency\n",
    "    # the item 1/(1 - scal_fac_b0) expresses carbon emission efficiency\n",
    "\n",
    "    data = read_dataframe(os.path.join(path))\n",
    "    data_out = read_data(data, column_out, year)\n",
    "    gdp_DMU = data_out[data_out.index.get_level_values(0) == DMU_name]\n",
    "    eco_ben = scal_fac_y0_potential * gdp_DMU\n",
    "    return eco_ben"
   ]
  },
  {
   "cell_type": "code",
   "execution_count": 23,
   "metadata": {},
   "outputs": [
    {
     "data": {
      "application/javascript": [
       "\n",
       "            setTimeout(function() {\n",
       "                var nbb_cell_id = 23;\n",
       "                var nbb_unformatted_code = \"def yearly_econ_benefit(year, path=path):\\n    data = read_dataframe(os.path.join(path))\\n    data_undout = read_data(data, column_undout, year)\\n    data_out = read_data(data, column_out, year)\\n    ls = []\\n    for i, _ in data_out.index:\\n        ls.append(calc_econ_benefit(path, year, i))\\n\\n    # test = pd.DataFrame(ls)\\n    econ_benefit_this_year = pd.concat(ls)\\n    zsg_eff = read_zsg_data(year)\\n    eco_benefit_df = pd.concat(\\n        [\\n            data_out,\\n            econ_benefit_this_year.rename(columns={\\\"GDP\\\": \\\"economic_impact\\\"}),\\n            pd.DataFrame(\\n                np.array(econ_benefit_this_year.iloc[:, -1])\\n                / (\\n                    np.array(data_undout.iloc[:, -1])\\n                    * (np.array(zsg_eff.loc[:, \\\"hri_score\\\"])-1)\\n                ),\\n                index=data_out.index,\\n            ).rename(columns={0: \\\"carbon_price\\\"}),\\n        ],\\n        axis=1,\\n    )\\n    return eco_benefit_df\";\n",
       "                var nbb_formatted_code = \"def yearly_econ_benefit(year, path=path):\\n    data = read_dataframe(os.path.join(path))\\n    data_undout = read_data(data, column_undout, year)\\n    data_out = read_data(data, column_out, year)\\n    ls = []\\n    for i, _ in data_out.index:\\n        ls.append(calc_econ_benefit(path, year, i))\\n\\n    # test = pd.DataFrame(ls)\\n    econ_benefit_this_year = pd.concat(ls)\\n    zsg_eff = read_zsg_data(year)\\n    eco_benefit_df = pd.concat(\\n        [\\n            data_out,\\n            econ_benefit_this_year.rename(columns={\\\"GDP\\\": \\\"economic_impact\\\"}),\\n            pd.DataFrame(\\n                np.array(econ_benefit_this_year.iloc[:, -1])\\n                / (\\n                    np.array(data_undout.iloc[:, -1])\\n                    * (np.array(zsg_eff.loc[:, \\\"hri_score\\\"]) - 1)\\n                ),\\n                index=data_out.index,\\n            ).rename(columns={0: \\\"carbon_price\\\"}),\\n        ],\\n        axis=1,\\n    )\\n    return eco_benefit_df\";\n",
       "                var nbb_cells = Jupyter.notebook.get_cells();\n",
       "                for (var i = 0; i < nbb_cells.length; ++i) {\n",
       "                    if (nbb_cells[i].input_prompt_number == nbb_cell_id) {\n",
       "                        if (nbb_cells[i].get_text() == nbb_unformatted_code) {\n",
       "                             nbb_cells[i].set_text(nbb_formatted_code);\n",
       "                        }\n",
       "                        break;\n",
       "                    }\n",
       "                }\n",
       "            }, 500);\n",
       "            "
      ],
      "text/plain": [
       "<IPython.core.display.Javascript object>"
      ]
     },
     "metadata": {},
     "output_type": "display_data"
    }
   ],
   "source": [
    "def yearly_econ_benefit(year, path=path):\n",
    "    data = read_dataframe(os.path.join(path))\n",
    "    data_undout = read_data(data, column_undout, year)\n",
    "    data_out = read_data(data, column_out, year)\n",
    "    ls = []\n",
    "    for i, _ in data_out.index:\n",
    "        ls.append(calc_econ_benefit(path, year, i))\n",
    "\n",
    "    # test = pd.DataFrame(ls)\n",
    "    econ_benefit_this_year = pd.concat(ls)\n",
    "    zsg_eff = read_zsg_data(year)\n",
    "    eco_benefit_df = pd.concat(\n",
    "        [\n",
    "            data_out,\n",
    "            econ_benefit_this_year.rename(columns={\"GDP\": \"economic_impact\"}),\n",
    "            pd.DataFrame(\n",
    "                np.array(econ_benefit_this_year.iloc[:, -1])\n",
    "                / (\n",
    "                    np.array(data_undout.iloc[:, -1])\n",
    "                    * (np.array(zsg_eff.loc[:, \"hri_score\"]) - 1)\n",
    "                ),\n",
    "                index=data_out.index,\n",
    "            ).rename(columns={0: \"carbon_price\"}),\n",
    "        ],\n",
    "        axis=1,\n",
    "    )\n",
    "    return eco_benefit_df"
   ]
  },
  {
   "cell_type": "code",
   "execution_count": 20,
   "metadata": {},
   "outputs": [
    {
     "data": {
      "application/javascript": [
       "\n",
       "            setTimeout(function() {\n",
       "                var nbb_cell_id = 20;\n",
       "                var nbb_unformatted_code = \"def export_excel(year_range, path=path):\\n\\n    os.chdir(path)\\n    with ExcelWriter(\\\"economic_impct.xlsx\\\") as writer:\\n        for year in year_range:\\n            eco_ben_df = yearly_econ_benefit(year, path=path)\\n            eco_ben_df.to_excel(writer, sheet_name=str(year))\\n        writer.save()\";\n",
       "                var nbb_formatted_code = \"def export_excel(year_range, path=path):\\n\\n    os.chdir(path)\\n    with ExcelWriter(\\\"economic_impct.xlsx\\\") as writer:\\n        for year in year_range:\\n            eco_ben_df = yearly_econ_benefit(year, path=path)\\n            eco_ben_df.to_excel(writer, sheet_name=str(year))\\n        writer.save()\";\n",
       "                var nbb_cells = Jupyter.notebook.get_cells();\n",
       "                for (var i = 0; i < nbb_cells.length; ++i) {\n",
       "                    if (nbb_cells[i].input_prompt_number == nbb_cell_id) {\n",
       "                        if (nbb_cells[i].get_text() == nbb_unformatted_code) {\n",
       "                             nbb_cells[i].set_text(nbb_formatted_code);\n",
       "                        }\n",
       "                        break;\n",
       "                    }\n",
       "                }\n",
       "            }, 500);\n",
       "            "
      ],
      "text/plain": [
       "<IPython.core.display.Javascript object>"
      ]
     },
     "metadata": {},
     "output_type": "display_data"
    }
   ],
   "source": [
    "def export_excel(year_range, path=path):\n",
    "\n",
    "    os.chdir(path)\n",
    "    with ExcelWriter(\"economic_impct.xlsx\") as writer:\n",
    "        for year in year_range:\n",
    "            eco_ben_df = yearly_econ_benefit(year, path=path)\n",
    "            eco_ben_df.to_excel(writer, sheet_name=str(year))\n",
    "        writer.save()"
   ]
  },
  {
   "cell_type": "code",
   "execution_count": 16,
   "metadata": {},
   "outputs": [
    {
     "data": {
      "application/javascript": [
       "\n",
       "            setTimeout(function() {\n",
       "                var nbb_cell_id = 16;\n",
       "                var nbb_unformatted_code = \"def main():\\n    year_range=range(2000,2031)\\n    export_excel(year_range)\";\n",
       "                var nbb_formatted_code = \"def main():\\n    year_range = range(2000, 2031)\\n    export_excel(year_range)\";\n",
       "                var nbb_cells = Jupyter.notebook.get_cells();\n",
       "                for (var i = 0; i < nbb_cells.length; ++i) {\n",
       "                    if (nbb_cells[i].input_prompt_number == nbb_cell_id) {\n",
       "                        if (nbb_cells[i].get_text() == nbb_unformatted_code) {\n",
       "                             nbb_cells[i].set_text(nbb_formatted_code);\n",
       "                        }\n",
       "                        break;\n",
       "                    }\n",
       "                }\n",
       "            }, 500);\n",
       "            "
      ],
      "text/plain": [
       "<IPython.core.display.Javascript object>"
      ]
     },
     "metadata": {},
     "output_type": "display_data"
    }
   ],
   "source": [
    "def main():\n",
    "    year_range = range(2000, 2031)\n",
    "    export_excel(year_range)"
   ]
  },
  {
   "cell_type": "code",
   "execution_count": 24,
   "metadata": {},
   "outputs": [
    {
     "data": {
      "application/javascript": [
       "\n",
       "            setTimeout(function() {\n",
       "                var nbb_cell_id = 24;\n",
       "                var nbb_unformatted_code = \"main()\";\n",
       "                var nbb_formatted_code = \"main()\";\n",
       "                var nbb_cells = Jupyter.notebook.get_cells();\n",
       "                for (var i = 0; i < nbb_cells.length; ++i) {\n",
       "                    if (nbb_cells[i].input_prompt_number == nbb_cell_id) {\n",
       "                        if (nbb_cells[i].get_text() == nbb_unformatted_code) {\n",
       "                             nbb_cells[i].set_text(nbb_formatted_code);\n",
       "                        }\n",
       "                        break;\n",
       "                    }\n",
       "                }\n",
       "            }, 500);\n",
       "            "
      ],
      "text/plain": [
       "<IPython.core.display.Javascript object>"
      ]
     },
     "metadata": {},
     "output_type": "display_data"
    }
   ],
   "source": [
    "main()"
   ]
  },
  {
   "cell_type": "code",
   "execution_count": 25,
   "metadata": {},
   "outputs": [
    {
     "data": {
      "text/html": [
       "<div>\n",
       "<style scoped>\n",
       "    .dataframe tbody tr th:only-of-type {\n",
       "        vertical-align: middle;\n",
       "    }\n",
       "\n",
       "    .dataframe tbody tr th {\n",
       "        vertical-align: top;\n",
       "    }\n",
       "\n",
       "    .dataframe thead th {\n",
       "        text-align: right;\n",
       "    }\n",
       "</style>\n",
       "<table border=\"1\" class=\"dataframe\">\n",
       "  <thead>\n",
       "    <tr style=\"text-align: right;\">\n",
       "      <th></th>\n",
       "      <th></th>\n",
       "      <th>GDP</th>\n",
       "      <th>economic_impact</th>\n",
       "      <th>carbon_price</th>\n",
       "    </tr>\n",
       "  </thead>\n",
       "  <tbody>\n",
       "    <tr>\n",
       "      <th>Beijing</th>\n",
       "      <th>2001</th>\n",
       "      <td>2756.38112</td>\n",
       "      <td>334.936123</td>\n",
       "      <td>22.950108</td>\n",
       "    </tr>\n",
       "    <tr>\n",
       "      <th>Tianjin</th>\n",
       "      <th>2001</th>\n",
       "      <td>1836.08320</td>\n",
       "      <td>640.326672</td>\n",
       "      <td>17.926740</td>\n",
       "    </tr>\n",
       "    <tr>\n",
       "      <th>Hebei</th>\n",
       "      <th>2001</th>\n",
       "      <td>5531.69952</td>\n",
       "      <td>-3037.272910</td>\n",
       "      <td>16.215475</td>\n",
       "    </tr>\n",
       "    <tr>\n",
       "      <th>Shanxi</th>\n",
       "      <th>2001</th>\n",
       "      <td>1781.89004</td>\n",
       "      <td>-634.146082</td>\n",
       "      <td>13.592594</td>\n",
       "    </tr>\n",
       "    <tr>\n",
       "      <th>InnerMongolia</th>\n",
       "      <th>2001</th>\n",
       "      <td>1535.50696</td>\n",
       "      <td>535.501910</td>\n",
       "      <td>8.502840</td>\n",
       "    </tr>\n",
       "    <tr>\n",
       "      <th>Liaoning</th>\n",
       "      <th>2001</th>\n",
       "      <td>5089.27540</td>\n",
       "      <td>1774.864439</td>\n",
       "      <td>12.164875</td>\n",
       "    </tr>\n",
       "    <tr>\n",
       "      <th>Jilin</th>\n",
       "      <th>2001</th>\n",
       "      <td>1990.56067</td>\n",
       "      <td>-1308.586461</td>\n",
       "      <td>20.276128</td>\n",
       "    </tr>\n",
       "    <tr>\n",
       "      <th>Heilongjiang</th>\n",
       "      <th>2001</th>\n",
       "      <td>3555.52900</td>\n",
       "      <td>-2952.850385</td>\n",
       "      <td>39.922925</td>\n",
       "    </tr>\n",
       "    <tr>\n",
       "      <th>Shanghai</th>\n",
       "      <th>2001</th>\n",
       "      <td>5015.36730</td>\n",
       "      <td>1749.089284</td>\n",
       "      <td>30.853414</td>\n",
       "    </tr>\n",
       "    <tr>\n",
       "      <th>Jiangsu</th>\n",
       "      <th>2001</th>\n",
       "      <td>9458.16846</td>\n",
       "      <td>3298.498418</td>\n",
       "      <td>28.344671</td>\n",
       "    </tr>\n",
       "    <tr>\n",
       "      <th>Zhejiang</th>\n",
       "      <th>2001</th>\n",
       "      <td>6670.15570</td>\n",
       "      <td>1677.899119</td>\n",
       "      <td>33.769165</td>\n",
       "    </tr>\n",
       "    <tr>\n",
       "      <th>Anhui</th>\n",
       "      <th>2001</th>\n",
       "      <td>3290.41392</td>\n",
       "      <td>-195.017198</td>\n",
       "      <td>7.326759</td>\n",
       "    </tr>\n",
       "    <tr>\n",
       "      <th>Fujian</th>\n",
       "      <th>2001</th>\n",
       "      <td>4272.87630</td>\n",
       "      <td>1490.148518</td>\n",
       "      <td>51.872678</td>\n",
       "    </tr>\n",
       "    <tr>\n",
       "      <th>Jiangxi</th>\n",
       "      <th>2001</th>\n",
       "      <td>2179.34016</td>\n",
       "      <td>760.036163</td>\n",
       "      <td>26.930235</td>\n",
       "    </tr>\n",
       "    <tr>\n",
       "      <th>Shandong</th>\n",
       "      <th>2001</th>\n",
       "      <td>9405.22644</td>\n",
       "      <td>3280.035100</td>\n",
       "      <td>20.191809</td>\n",
       "    </tr>\n",
       "    <tr>\n",
       "      <th>Henan</th>\n",
       "      <th>2001</th>\n",
       "      <td>5605.18706</td>\n",
       "      <td>98.024920</td>\n",
       "      <td>35.229635</td>\n",
       "    </tr>\n",
       "    <tr>\n",
       "      <th>Hubei</th>\n",
       "      <th>2001</th>\n",
       "      <td>4665.46512</td>\n",
       "      <td>-606.358776</td>\n",
       "      <td>12.292657</td>\n",
       "    </tr>\n",
       "    <tr>\n",
       "      <th>Hunan</th>\n",
       "      <th>2001</th>\n",
       "      <td>4024.14920</td>\n",
       "      <td>819.443856</td>\n",
       "      <td>39.045919</td>\n",
       "    </tr>\n",
       "    <tr>\n",
       "      <th>Guangdong</th>\n",
       "      <th>2001</th>\n",
       "      <td>10589.80408</td>\n",
       "      <td>850.249712</td>\n",
       "      <td>52.514675</td>\n",
       "    </tr>\n",
       "    <tr>\n",
       "      <th>Guangxi</th>\n",
       "      <th>2001</th>\n",
       "      <td>2218.25148</td>\n",
       "      <td>348.202058</td>\n",
       "      <td>41.601618</td>\n",
       "    </tr>\n",
       "    <tr>\n",
       "      <th>Hainan</th>\n",
       "      <th>2001</th>\n",
       "      <td>564.62472</td>\n",
       "      <td>196.910613</td>\n",
       "      <td>74.590634</td>\n",
       "    </tr>\n",
       "    <tr>\n",
       "      <th>Chongqing</th>\n",
       "      <th>2001</th>\n",
       "      <td>1732.38060</td>\n",
       "      <td>-603.620946</td>\n",
       "      <td>41.382880</td>\n",
       "    </tr>\n",
       "    <tr>\n",
       "      <th>Sichuan</th>\n",
       "      <th>2001</th>\n",
       "      <td>4379.19300</td>\n",
       "      <td>-1631.288808</td>\n",
       "      <td>49.110173</td>\n",
       "    </tr>\n",
       "    <tr>\n",
       "      <th>Guizhou</th>\n",
       "      <th>2001</th>\n",
       "      <td>1080.96064</td>\n",
       "      <td>138.522925</td>\n",
       "      <td>-3.450654</td>\n",
       "    </tr>\n",
       "    <tr>\n",
       "      <th>Yunnan</th>\n",
       "      <th>2001</th>\n",
       "      <td>2082.17085</td>\n",
       "      <td>-150.341933</td>\n",
       "      <td>5.401977</td>\n",
       "    </tr>\n",
       "    <tr>\n",
       "      <th>Shaanxi</th>\n",
       "      <th>2001</th>\n",
       "      <td>1812.06372</td>\n",
       "      <td>-1190.054178</td>\n",
       "      <td>28.737854</td>\n",
       "    </tr>\n",
       "    <tr>\n",
       "      <th>Gansu</th>\n",
       "      <th>2001</th>\n",
       "      <td>1075.79584</td>\n",
       "      <td>53.788697</td>\n",
       "      <td>-0.883536</td>\n",
       "    </tr>\n",
       "    <tr>\n",
       "      <th>Qinghai</th>\n",
       "      <th>2001</th>\n",
       "      <td>295.22080</td>\n",
       "      <td>-36.005551</td>\n",
       "      <td>2.830612</td>\n",
       "    </tr>\n",
       "    <tr>\n",
       "      <th>Ningxia</th>\n",
       "      <th>2001</th>\n",
       "      <td>292.39257</td>\n",
       "      <td>101.970739</td>\n",
       "      <td>205.613699</td>\n",
       "    </tr>\n",
       "    <tr>\n",
       "      <th>Xinjiang</th>\n",
       "      <th>2001</th>\n",
       "      <td>1474.87316</td>\n",
       "      <td>-831.419005</td>\n",
       "      <td>11.282007</td>\n",
       "    </tr>\n",
       "  </tbody>\n",
       "</table>\n",
       "</div>"
      ],
      "text/plain": [
       "                            GDP  economic_impact  carbon_price\n",
       "Beijing       2001   2756.38112       334.936123     22.950108\n",
       "Tianjin       2001   1836.08320       640.326672     17.926740\n",
       "Hebei         2001   5531.69952     -3037.272910     16.215475\n",
       "Shanxi        2001   1781.89004      -634.146082     13.592594\n",
       "InnerMongolia 2001   1535.50696       535.501910      8.502840\n",
       "Liaoning      2001   5089.27540      1774.864439     12.164875\n",
       "Jilin         2001   1990.56067     -1308.586461     20.276128\n",
       "Heilongjiang  2001   3555.52900     -2952.850385     39.922925\n",
       "Shanghai      2001   5015.36730      1749.089284     30.853414\n",
       "Jiangsu       2001   9458.16846      3298.498418     28.344671\n",
       "Zhejiang      2001   6670.15570      1677.899119     33.769165\n",
       "Anhui         2001   3290.41392      -195.017198      7.326759\n",
       "Fujian        2001   4272.87630      1490.148518     51.872678\n",
       "Jiangxi       2001   2179.34016       760.036163     26.930235\n",
       "Shandong      2001   9405.22644      3280.035100     20.191809\n",
       "Henan         2001   5605.18706        98.024920     35.229635\n",
       "Hubei         2001   4665.46512      -606.358776     12.292657\n",
       "Hunan         2001   4024.14920       819.443856     39.045919\n",
       "Guangdong     2001  10589.80408       850.249712     52.514675\n",
       "Guangxi       2001   2218.25148       348.202058     41.601618\n",
       "Hainan        2001    564.62472       196.910613     74.590634\n",
       "Chongqing     2001   1732.38060      -603.620946     41.382880\n",
       "Sichuan       2001   4379.19300     -1631.288808     49.110173\n",
       "Guizhou       2001   1080.96064       138.522925     -3.450654\n",
       "Yunnan        2001   2082.17085      -150.341933      5.401977\n",
       "Shaanxi       2001   1812.06372     -1190.054178     28.737854\n",
       "Gansu         2001   1075.79584        53.788697     -0.883536\n",
       "Qinghai       2001    295.22080       -36.005551      2.830612\n",
       "Ningxia       2001    292.39257       101.970739    205.613699\n",
       "Xinjiang      2001   1474.87316      -831.419005     11.282007"
      ]
     },
     "execution_count": 25,
     "metadata": {},
     "output_type": "execute_result"
    },
    {
     "data": {
      "application/javascript": [
       "\n",
       "            setTimeout(function() {\n",
       "                var nbb_cell_id = 25;\n",
       "                var nbb_unformatted_code = \"yearly_econ_benefit(2001, path=path)\";\n",
       "                var nbb_formatted_code = \"yearly_econ_benefit(2001, path=path)\";\n",
       "                var nbb_cells = Jupyter.notebook.get_cells();\n",
       "                for (var i = 0; i < nbb_cells.length; ++i) {\n",
       "                    if (nbb_cells[i].input_prompt_number == nbb_cell_id) {\n",
       "                        if (nbb_cells[i].get_text() == nbb_unformatted_code) {\n",
       "                             nbb_cells[i].set_text(nbb_formatted_code);\n",
       "                        }\n",
       "                        break;\n",
       "                    }\n",
       "                }\n",
       "            }, 500);\n",
       "            "
      ],
      "text/plain": [
       "<IPython.core.display.Javascript object>"
      ]
     },
     "metadata": {},
     "output_type": "display_data"
    }
   ],
   "source": [
    "yearly_econ_benefit(2001, path=path)"
   ]
  }
 ],
 "metadata": {
  "kernelspec": {
   "display_name": "base",
   "language": "python",
   "name": "base"
  },
  "language_info": {
   "codemirror_mode": {
    "name": "ipython",
    "version": 3
   },
   "file_extension": ".py",
   "mimetype": "text/x-python",
   "name": "python",
   "nbconvert_exporter": "python",
   "pygments_lexer": "ipython3",
   "version": "3.7.3"
  }
 },
 "nbformat": 4,
 "nbformat_minor": 4
}
