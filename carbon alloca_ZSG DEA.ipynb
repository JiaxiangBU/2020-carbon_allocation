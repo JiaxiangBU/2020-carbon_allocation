{
 "cells": [
  {
   "cell_type": "code",
   "execution_count": 3,
   "metadata": {},
   "outputs": [
    {
     "name": "stdout",
     "output_type": "stream",
     "text": [
      "The nb_black extension is already loaded. To reload it, use:\n",
      "  %reload_ext nb_black\n"
     ]
    },
    {
     "data": {
      "application/javascript": [
       "\n",
       "            setTimeout(function() {\n",
       "                var nbb_cell_id = 3;\n",
       "                var nbb_unformatted_code = \"import numpy as np\\nimport os\\nimport pandas as pd\\nimport pickle\\nimport pulp\\n\\n%load_ext nb_black\";\n",
       "                var nbb_formatted_code = \"import numpy as np\\nimport os\\nimport pandas as pd\\nimport pickle\\nimport pulp\\n\\n%load_ext nb_black\";\n",
       "                var nbb_cells = Jupyter.notebook.get_cells();\n",
       "                for (var i = 0; i < nbb_cells.length; ++i) {\n",
       "                    if (nbb_cells[i].input_prompt_number == nbb_cell_id) {\n",
       "                        if (nbb_cells[i].get_text() == nbb_unformatted_code) {\n",
       "                             nbb_cells[i].set_text(nbb_formatted_code);\n",
       "                        }\n",
       "                        break;\n",
       "                    }\n",
       "                }\n",
       "            }, 500);\n",
       "            "
      ],
      "text/plain": [
       "<IPython.core.display.Javascript object>"
      ]
     },
     "metadata": {},
     "output_type": "display_data"
    }
   ],
   "source": [
    "import numpy as np\n",
    "import os\n",
    "import pandas as pd\n",
    "import pickle\n",
    "import pulp\n",
    "\n",
    "%load_ext nb_black"
   ]
  },
  {
   "cell_type": "code",
   "execution_count": 14,
   "metadata": {},
   "outputs": [
    {
     "data": {
      "application/javascript": [
       "\n",
       "            setTimeout(function() {\n",
       "                var nbb_cell_id = 14;\n",
       "                var nbb_unformatted_code = \"class ZSG_DEAProblem:\\n    def __init__(\\n        self,\\n        inputs,\\n        outputs,\\n        bad_outs,\\n        weight_vector = None,\\n        directional_factor=None,\\n        returns=\\\"CRS\\\",\\n        in_weights=[0, None],\\n        out_weights=[0, None],\\n        badout_weights=[0, None],\\n    ):\\n        self.inputs = inputs\\n        self.outputs = outputs\\n        self.bad_outs = bad_outs\\n        self.returns = returns\\n        self.weight_vector = (\\n            weight_vector  # weight vector in directional distance function\\n        )\\n\\n        self.J, self.I = self.inputs.shape  # no of DMUs, inputs\\n        _, self.R = self.outputs.shape  # no of outputs\\n        _, self.S = self.bad_outs.shape  # no of bad outputs\\n        self._i = range(self.I)  # inputs\\n        self._r = range(self.R)  # outputs\\n        self._s = range(self.S)  # bad_output\\n        self._j = range(self.J)  # DMUs\\n        if directional_factor == None:\\n            self.gx = self.inputs\\n            self.gy = self.outputs\\n            self.gb = self.bad_outs\\n        else:\\n            self.gx = directional_factor[: self.I]\\n            self.gy = directional_factor[self.I : (self.I + self.J)]\\n            self.gy = directional_factor[(self.I + self.J) :]\\n\\n        self._in_weights = in_weights  # input weight restrictions\\n        self._out_weights = out_weights  # output weight restrictions\\n        self._badout_weights = badout_weights  # bad output weight restrictions\\n\\n        # creates dictionary of pulp.LpProblem objects for the DMUs\\n        self.dmus = self._create_problems()\\n\\n    def _create_problems(self):\\n        \\\"\\\"\\\"\\n        Iterate over the DMU and create a dictionary of LP problems, one\\n        for each DMU.\\n        \\\"\\\"\\\"\\n\\n        dmu_dict = {}\\n        for j0 in self._j:\\n            dmu_dict[j0] = self._make_problem(j0)\\n        return dmu_dict\\n\\n    def _make_problem(self, j0):\\n        \\\"\\\"\\\"\\n        Create a pulp.LpProblem for a DMU.\\n        \\\"\\\"\\\"\\n\\n        # Set up pulp\\n        prob = pulp.LpProblem(\\\"\\\".join([\\\"DMU_\\\", str(j0)]), pulp.LpMaximize)\\n        self.weights = pulp.LpVariable.dicts(\\n            \\\"Weight\\\", (self._j), lowBound=self._in_weights[0]\\n        )\\n        self.betax = pulp.LpVariable.dicts(\\n            \\\"scalingFactor_x\\\", (self._i), lowBound=0, upBound=1\\n        )\\n\\n        self.betay = pulp.LpVariable.dicts(\\\"scalingFactor_y\\\", (self._r), lowBound=0)\\n\\n        self.betab = pulp.LpVariable.dicts(\\n            \\\"scalingFactor_b\\\",\\n            (self._s),\\n            lowBound=0,\\n        )\\n\\n        # Set returns to scale\\n        if self.returns == \\\"VRS\\\":\\n            prob += pulp.lpSum([weight for weight in self.weights]) == 1\\n\\n        # Set up objective function\\n        prob += pulp.lpSum([self.betab[s] for s in self._s])\\n\\n        # Set up constraints\\n        for i in self._i:\\n            prob += (\\n                pulp.lpSum(\\n                    [(self.weights[j0] * self.inputs.values[j0][i]) for j0 in self._j]\\n                )\\n                <= self.inputs.values[j0][i]\\n            )\\n        for r in self._r:\\n            prob += (\\n                pulp.lpSum(\\n                    [(self.weights[j0] * self.outputs.values[j0][r]) for j0 in self._j]\\n                )\\n                >= self.outputs.values[j0][r]\\n            )\\n\\n        for s in self._s:  # weak disposability\\n            prob += (\\n                pulp.lpSum(\\n                    [(self.weights[j0] * self.bad_outs.values[j0][s]) for j0 in self._j]\\n                )\\n                == self.betab[s] * self.bad_outs.values[j0][s]\\n            )\\n\\n        return prob\\n\\n    def solve(self):\\n        \\\"\\\"\\\"\\n        Iterate over the dictionary of DMUs' problems, solve them, and collate\\n        the results into a pandas dataframe.\\n        \\\"\\\"\\\"\\n\\n        sol_status = {}\\n        sol_weights = {}\\n        sol_objective_function = {}\\n\\n        for ind, problem in list(self.dmus.items()):\\n            problem.solve()\\n            sol_status[ind] = pulp.LpStatus[problem.status]\\n            sol_weights[ind] = {}\\n            for v in problem.variables():\\n                sol_weights[ind][v.name] = v.varValue\\n            sol_objective_function[ind] = pulp.value(problem.objective)\\n        return sol_status, sol_objective_function, sol_weights\\n\\n    def adjust_und_output(self):\\n        \\\"\\\"\\\"\\n        after solving all the classic DEA efficiency calculation,\\n        calculate each DMU's ZSG-DEA efficiency according to its\\n        DEA efficiency.\\n        \\\"\\\"\\\"\\n        sol_status, sol_objective_function, sol_weights = self.solve()\\n        adjust_efficiency = {}\\n        for i in list(self._j):\\n            eff_ls, ineff_ls, ineff_denom = [], [], []\\n            for j in range(self.bad_outs.shape[0]):\\n\\n                if sol_objective_function[j] == 1:\\n                    efficient_DMU_b = sum(\\n                        [self.bad_outs[s][j] for s in range(self.bad_outs.shape[1])]\\n                    )\\n                    eff_ls.append(efficient_DMU_b)\\n                else:\\n                    inefficient_DMU_b = -sum(\\n                        [self.bad_outs[s][j] for s in range(self.bad_outs.shape[1])]\\n                    )\\n\\n                    inefficient_DMU_denominator = -sol_objective_function[j] * sum(\\n                        [self.bad_outs[s][j] for s in range(self.bad_outs.shape[1])]\\n                    )\\n                    ineff_ls.append(inefficient_DMU_b)\\n                    ineff_denom.append(inefficient_DMU_denominator)\\n\\n            eff_DMU_sum, ineff_DMU_sum, ineff_DMU_sumproduct = (\\n                sum(eff_ls),\\n                sum(ineff_ls),\\n                sum(ineff_denom),\\n            )\\n            adjust_eff = (\\n                sol_objective_function[i] * sum([eff_DMU_sum, ineff_DMU_sum])\\n            ) / sum(\\n                [eff_DMU_sum, ineff_DMU_sumproduct]\\n            )  # \\u8ba1\\u7b97zsg-efficiency\\n            adjust_efficiency[i] = adjust_eff\\n\\n        status = pd.DataFrame.from_dict(sol_status, orient=\\\"index\\\", columns=[\\\"status\\\"])\\n        objective = pd.DataFrame.from_dict(\\n            sol_objective_function, orient=\\\"index\\\", columns=[\\\"objective_function\\\"]\\n        )\\n        adj_eff = pd.DataFrame.from_dict(\\n            adjust_efficiency, orient=\\\"index\\\", columns=[\\\"adj_score\\\"]\\n        )\\n        weight = pd.DataFrame.from_dict(sol_weights, orient=\\\"index\\\")\\n        results = pd.concat([status, objective, adj_eff, weight], axis=1)\\n        return results\";\n",
       "                var nbb_formatted_code = \"class ZSG_DEAProblem:\\n    def __init__(\\n        self,\\n        inputs,\\n        outputs,\\n        bad_outs,\\n        weight_vector=None,\\n        directional_factor=None,\\n        returns=\\\"CRS\\\",\\n        in_weights=[0, None],\\n        out_weights=[0, None],\\n        badout_weights=[0, None],\\n    ):\\n        self.inputs = inputs\\n        self.outputs = outputs\\n        self.bad_outs = bad_outs\\n        self.returns = returns\\n        self.weight_vector = (\\n            weight_vector  # weight vector in directional distance function\\n        )\\n\\n        self.J, self.I = self.inputs.shape  # no of DMUs, inputs\\n        _, self.R = self.outputs.shape  # no of outputs\\n        _, self.S = self.bad_outs.shape  # no of bad outputs\\n        self._i = range(self.I)  # inputs\\n        self._r = range(self.R)  # outputs\\n        self._s = range(self.S)  # bad_output\\n        self._j = range(self.J)  # DMUs\\n        if directional_factor == None:\\n            self.gx = self.inputs\\n            self.gy = self.outputs\\n            self.gb = self.bad_outs\\n        else:\\n            self.gx = directional_factor[: self.I]\\n            self.gy = directional_factor[self.I : (self.I + self.J)]\\n            self.gy = directional_factor[(self.I + self.J) :]\\n\\n        self._in_weights = in_weights  # input weight restrictions\\n        self._out_weights = out_weights  # output weight restrictions\\n        self._badout_weights = badout_weights  # bad output weight restrictions\\n\\n        # creates dictionary of pulp.LpProblem objects for the DMUs\\n        self.dmus = self._create_problems()\\n\\n    def _create_problems(self):\\n        \\\"\\\"\\\"\\n        Iterate over the DMU and create a dictionary of LP problems, one\\n        for each DMU.\\n        \\\"\\\"\\\"\\n\\n        dmu_dict = {}\\n        for j0 in self._j:\\n            dmu_dict[j0] = self._make_problem(j0)\\n        return dmu_dict\\n\\n    def _make_problem(self, j0):\\n        \\\"\\\"\\\"\\n        Create a pulp.LpProblem for a DMU.\\n        \\\"\\\"\\\"\\n\\n        # Set up pulp\\n        prob = pulp.LpProblem(\\\"\\\".join([\\\"DMU_\\\", str(j0)]), pulp.LpMaximize)\\n        self.weights = pulp.LpVariable.dicts(\\n            \\\"Weight\\\", (self._j), lowBound=self._in_weights[0]\\n        )\\n        self.betax = pulp.LpVariable.dicts(\\n            \\\"scalingFactor_x\\\", (self._i), lowBound=0, upBound=1\\n        )\\n\\n        self.betay = pulp.LpVariable.dicts(\\\"scalingFactor_y\\\", (self._r), lowBound=0)\\n\\n        self.betab = pulp.LpVariable.dicts(\\n            \\\"scalingFactor_b\\\",\\n            (self._s),\\n            lowBound=0,\\n        )\\n\\n        # Set returns to scale\\n        if self.returns == \\\"VRS\\\":\\n            prob += pulp.lpSum([weight for weight in self.weights]) == 1\\n\\n        # Set up objective function\\n        prob += pulp.lpSum([self.betab[s] for s in self._s])\\n\\n        # Set up constraints\\n        for i in self._i:\\n            prob += (\\n                pulp.lpSum(\\n                    [(self.weights[j0] * self.inputs.values[j0][i]) for j0 in self._j]\\n                )\\n                <= self.inputs.values[j0][i]\\n            )\\n        for r in self._r:\\n            prob += (\\n                pulp.lpSum(\\n                    [(self.weights[j0] * self.outputs.values[j0][r]) for j0 in self._j]\\n                )\\n                >= self.outputs.values[j0][r]\\n            )\\n\\n        for s in self._s:  # weak disposability\\n            prob += (\\n                pulp.lpSum(\\n                    [(self.weights[j0] * self.bad_outs.values[j0][s]) for j0 in self._j]\\n                )\\n                == self.betab[s] * self.bad_outs.values[j0][s]\\n            )\\n\\n        return prob\\n\\n    def solve(self):\\n        \\\"\\\"\\\"\\n        Iterate over the dictionary of DMUs' problems, solve them, and collate\\n        the results into a pandas dataframe.\\n        \\\"\\\"\\\"\\n\\n        sol_status = {}\\n        sol_weights = {}\\n        sol_objective_function = {}\\n\\n        for ind, problem in list(self.dmus.items()):\\n            problem.solve()\\n            sol_status[ind] = pulp.LpStatus[problem.status]\\n            sol_weights[ind] = {}\\n            for v in problem.variables():\\n                sol_weights[ind][v.name] = v.varValue\\n            sol_objective_function[ind] = pulp.value(problem.objective)\\n        return sol_status, sol_objective_function, sol_weights\\n\\n    def adjust_und_output(self):\\n        \\\"\\\"\\\"\\n        after solving all the classic DEA efficiency calculation,\\n        calculate each DMU's ZSG-DEA efficiency according to its\\n        DEA efficiency.\\n        \\\"\\\"\\\"\\n        sol_status, sol_objective_function, sol_weights = self.solve()\\n        adjust_efficiency = {}\\n        for i in list(self._j):\\n            eff_ls, ineff_ls, ineff_denom = [], [], []\\n            for j in range(self.bad_outs.shape[0]):\\n\\n                if sol_objective_function[j] == 1:\\n                    efficient_DMU_b = sum(\\n                        [self.bad_outs[s][j] for s in range(self.bad_outs.shape[1])]\\n                    )\\n                    eff_ls.append(efficient_DMU_b)\\n                else:\\n                    inefficient_DMU_b = -sum(\\n                        [self.bad_outs[s][j] for s in range(self.bad_outs.shape[1])]\\n                    )\\n\\n                    inefficient_DMU_denominator = -sol_objective_function[j] * sum(\\n                        [self.bad_outs[s][j] for s in range(self.bad_outs.shape[1])]\\n                    )\\n                    ineff_ls.append(inefficient_DMU_b)\\n                    ineff_denom.append(inefficient_DMU_denominator)\\n\\n            eff_DMU_sum, ineff_DMU_sum, ineff_DMU_sumproduct = (\\n                sum(eff_ls),\\n                sum(ineff_ls),\\n                sum(ineff_denom),\\n            )\\n            adjust_eff = (\\n                sol_objective_function[i] * sum([eff_DMU_sum, ineff_DMU_sum])\\n            ) / sum(\\n                [eff_DMU_sum, ineff_DMU_sumproduct]\\n            )  # \\u8ba1\\u7b97zsg-efficiency\\n            adjust_efficiency[i] = adjust_eff\\n\\n        status = pd.DataFrame.from_dict(sol_status, orient=\\\"index\\\", columns=[\\\"status\\\"])\\n        objective = pd.DataFrame.from_dict(\\n            sol_objective_function, orient=\\\"index\\\", columns=[\\\"objective_function\\\"]\\n        )\\n        adj_eff = pd.DataFrame.from_dict(\\n            adjust_efficiency, orient=\\\"index\\\", columns=[\\\"adj_score\\\"]\\n        )\\n        weight = pd.DataFrame.from_dict(sol_weights, orient=\\\"index\\\")\\n        results = pd.concat([status, objective, adj_eff, weight], axis=1)\\n        return results\";\n",
       "                var nbb_cells = Jupyter.notebook.get_cells();\n",
       "                for (var i = 0; i < nbb_cells.length; ++i) {\n",
       "                    if (nbb_cells[i].input_prompt_number == nbb_cell_id) {\n",
       "                        if (nbb_cells[i].get_text() == nbb_unformatted_code) {\n",
       "                             nbb_cells[i].set_text(nbb_formatted_code);\n",
       "                        }\n",
       "                        break;\n",
       "                    }\n",
       "                }\n",
       "            }, 500);\n",
       "            "
      ],
      "text/plain": [
       "<IPython.core.display.Javascript object>"
      ]
     },
     "metadata": {},
     "output_type": "display_data"
    }
   ],
   "source": [
    "class ZSG_DEAProblem:\n",
    "    def __init__(\n",
    "        self,\n",
    "        inputs,\n",
    "        outputs,\n",
    "        bad_outs,\n",
    "        weight_vector=None,\n",
    "        directional_factor=None,\n",
    "        returns=\"CRS\",\n",
    "        in_weights=[0, None],\n",
    "        out_weights=[0, None],\n",
    "        badout_weights=[0, None],\n",
    "    ):\n",
    "        self.inputs = inputs\n",
    "        self.outputs = outputs\n",
    "        self.bad_outs = bad_outs\n",
    "        self.returns = returns\n",
    "        self.weight_vector = (\n",
    "            weight_vector  # weight vector in directional distance function\n",
    "        )\n",
    "\n",
    "        self.J, self.I = self.inputs.shape  # no of DMUs, inputs\n",
    "        _, self.R = self.outputs.shape  # no of outputs\n",
    "        _, self.S = self.bad_outs.shape  # no of bad outputs\n",
    "        self._i = range(self.I)  # inputs\n",
    "        self._r = range(self.R)  # outputs\n",
    "        self._s = range(self.S)  # bad_output\n",
    "        self._j = range(self.J)  # DMUs\n",
    "        if directional_factor == None:\n",
    "            self.gx = self.inputs\n",
    "            self.gy = self.outputs\n",
    "            self.gb = self.bad_outs\n",
    "        else:\n",
    "            self.gx = directional_factor[: self.I]\n",
    "            self.gy = directional_factor[self.I : (self.I + self.J)]\n",
    "            self.gy = directional_factor[(self.I + self.J) :]\n",
    "\n",
    "        self._in_weights = in_weights  # input weight restrictions\n",
    "        self._out_weights = out_weights  # output weight restrictions\n",
    "        self._badout_weights = badout_weights  # bad output weight restrictions\n",
    "\n",
    "        # creates dictionary of pulp.LpProblem objects for the DMUs\n",
    "        self.dmus = self._create_problems()\n",
    "\n",
    "    def _create_problems(self):\n",
    "        \"\"\"\n",
    "        Iterate over the DMU and create a dictionary of LP problems, one\n",
    "        for each DMU.\n",
    "        \"\"\"\n",
    "\n",
    "        dmu_dict = {}\n",
    "        for j0 in self._j:\n",
    "            dmu_dict[j0] = self._make_problem(j0)\n",
    "        return dmu_dict\n",
    "\n",
    "    def _make_problem(self, j0):\n",
    "        \"\"\"\n",
    "        Create a pulp.LpProblem for a DMU.\n",
    "        \"\"\"\n",
    "\n",
    "        # Set up pulp\n",
    "        prob = pulp.LpProblem(\"\".join([\"DMU_\", str(j0)]), pulp.LpMaximize)\n",
    "        self.weights = pulp.LpVariable.dicts(\n",
    "            \"Weight\", (self._j), lowBound=self._in_weights[0]\n",
    "        )\n",
    "        self.betax = pulp.LpVariable.dicts(\n",
    "            \"scalingFactor_x\", (self._i), lowBound=0, upBound=1\n",
    "        )\n",
    "\n",
    "        self.betay = pulp.LpVariable.dicts(\"scalingFactor_y\", (self._r), lowBound=0)\n",
    "\n",
    "        self.betab = pulp.LpVariable.dicts(\n",
    "            \"scalingFactor_b\",\n",
    "            (self._s),\n",
    "            lowBound=0,\n",
    "        )\n",
    "\n",
    "        # Set returns to scale\n",
    "        if self.returns == \"VRS\":\n",
    "            prob += pulp.lpSum([weight for weight in self.weights]) == 1\n",
    "\n",
    "        # Set up objective function\n",
    "        prob += pulp.lpSum([self.betab[s] for s in self._s])\n",
    "\n",
    "        # Set up constraints\n",
    "        for i in self._i:\n",
    "            prob += (\n",
    "                pulp.lpSum(\n",
    "                    [(self.weights[j0] * self.inputs.values[j0][i]) for j0 in self._j]\n",
    "                )\n",
    "                <= self.inputs.values[j0][i]\n",
    "            )\n",
    "        for r in self._r:\n",
    "            prob += (\n",
    "                pulp.lpSum(\n",
    "                    [(self.weights[j0] * self.outputs.values[j0][r]) for j0 in self._j]\n",
    "                )\n",
    "                >= self.outputs.values[j0][r]\n",
    "            )\n",
    "\n",
    "        for s in self._s:  # weak disposability\n",
    "            prob += (\n",
    "                pulp.lpSum(\n",
    "                    [(self.weights[j0] * self.bad_outs.values[j0][s]) for j0 in self._j]\n",
    "                )\n",
    "                == self.betab[s] * self.bad_outs.values[j0][s]\n",
    "            )\n",
    "\n",
    "        return prob\n",
    "\n",
    "    def solve(self):\n",
    "        \"\"\"\n",
    "        Iterate over the dictionary of DMUs' problems, solve them, and collate\n",
    "        the results into a pandas dataframe.\n",
    "        \"\"\"\n",
    "\n",
    "        sol_status = {}\n",
    "        sol_weights = {}\n",
    "        sol_objective_function = {}\n",
    "\n",
    "        for ind, problem in list(self.dmus.items()):\n",
    "            problem.solve()\n",
    "            sol_status[ind] = pulp.LpStatus[problem.status]\n",
    "            sol_weights[ind] = {}\n",
    "            for v in problem.variables():\n",
    "                sol_weights[ind][v.name] = v.varValue\n",
    "            sol_objective_function[ind] = pulp.value(problem.objective)\n",
    "        return sol_status, sol_objective_function, sol_weights\n",
    "\n",
    "    def adjust_und_output(self):\n",
    "        \"\"\"\n",
    "        after solving all the classic DEA efficiency calculation,\n",
    "        calculate each DMU's ZSG-DEA efficiency according to its\n",
    "        DEA efficiency.\n",
    "        \"\"\"\n",
    "        sol_status, sol_objective_function, sol_weights = self.solve()\n",
    "        adjust_efficiency = {}\n",
    "        for i in list(self._j):\n",
    "            eff_ls, ineff_ls, ineff_denom = [], [], []\n",
    "            for j in range(self.bad_outs.shape[0]):\n",
    "\n",
    "                if sol_objective_function[j] == 1:\n",
    "                    efficient_DMU_b = sum(\n",
    "                        [self.bad_outs[s][j] for s in range(self.bad_outs.shape[1])]\n",
    "                    )\n",
    "                    eff_ls.append(efficient_DMU_b)\n",
    "                else:\n",
    "                    inefficient_DMU_b = -sum(\n",
    "                        [self.bad_outs[s][j] for s in range(self.bad_outs.shape[1])]\n",
    "                    )\n",
    "\n",
    "                    inefficient_DMU_denominator = -sol_objective_function[j] * sum(\n",
    "                        [self.bad_outs[s][j] for s in range(self.bad_outs.shape[1])]\n",
    "                    )\n",
    "                    ineff_ls.append(inefficient_DMU_b)\n",
    "                    ineff_denom.append(inefficient_DMU_denominator)\n",
    "\n",
    "            eff_DMU_sum, ineff_DMU_sum, ineff_DMU_sumproduct = (\n",
    "                sum(eff_ls),\n",
    "                sum(ineff_ls),\n",
    "                sum(ineff_denom),\n",
    "            )\n",
    "            adjust_eff = (\n",
    "                sol_objective_function[i] * sum([eff_DMU_sum, ineff_DMU_sum])\n",
    "            ) / sum(\n",
    "                [eff_DMU_sum, ineff_DMU_sumproduct]\n",
    "            )  # 计算zsg-efficiency\n",
    "            adjust_efficiency[i] = adjust_eff\n",
    "\n",
    "        status = pd.DataFrame.from_dict(sol_status, orient=\"index\", columns=[\"status\"])\n",
    "        objective = pd.DataFrame.from_dict(\n",
    "            sol_objective_function, orient=\"index\", columns=[\"objective_function\"]\n",
    "        )\n",
    "        adj_eff = pd.DataFrame.from_dict(\n",
    "            adjust_efficiency, orient=\"index\", columns=[\"adj_score\"]\n",
    "        )\n",
    "        weight = pd.DataFrame.from_dict(sol_weights, orient=\"index\")\n",
    "        results = pd.concat([status, objective, adj_eff, weight], axis=1)\n",
    "        return results"
   ]
  },
  {
   "cell_type": "code",
   "execution_count": 4,
   "metadata": {},
   "outputs": [
    {
     "data": {
      "application/javascript": [
       "\n",
       "            setTimeout(function() {\n",
       "                var nbb_cell_id = 4;\n",
       "                var nbb_unformatted_code = \"def read_excel(file,column_name):\\n    with open(file,'rb') as file:\\n        data = pickle.load(file)\\n    data_col = data.loc[:,column_name]\\n    return data_col\";\n",
       "                var nbb_formatted_code = \"def read_excel(file, column_name):\\n    with open(file, \\\"rb\\\") as file:\\n        data = pickle.load(file)\\n    data_col = data.loc[:, column_name]\\n    return data_col\";\n",
       "                var nbb_cells = Jupyter.notebook.get_cells();\n",
       "                for (var i = 0; i < nbb_cells.length; ++i) {\n",
       "                    if (nbb_cells[i].input_prompt_number == nbb_cell_id) {\n",
       "                        if (nbb_cells[i].get_text() == nbb_unformatted_code) {\n",
       "                             nbb_cells[i].set_text(nbb_formatted_code);\n",
       "                        }\n",
       "                        break;\n",
       "                    }\n",
       "                }\n",
       "            }, 500);\n",
       "            "
      ],
      "text/plain": [
       "<IPython.core.display.Javascript object>"
      ]
     },
     "metadata": {},
     "output_type": "display_data"
    }
   ],
   "source": [
    "def read_excel(file, column_name):\n",
    "    with open(file, \"rb\") as file:\n",
    "        data = pickle.load(file)\n",
    "    data_col = data.loc[:, column_name]\n",
    "    return data_col"
   ]
  },
  {
   "cell_type": "code",
   "execution_count": 5,
   "metadata": {},
   "outputs": [
    {
     "data": {
      "application/javascript": [
       "\n",
       "            setTimeout(function() {\n",
       "                var nbb_cell_id = 5;\n",
       "                var nbb_unformatted_code = \"file = r\\\"D:\\\\tencent files\\\\chrome Download\\\\Research\\\\DEA\\\\DEA_carbon market\\\\Data\\\\Data_lstm.pickle\\\"\";\n",
       "                var nbb_formatted_code = \"file = r\\\"D:\\\\tencent files\\\\chrome Download\\\\Research\\\\DEA\\\\DEA_carbon market\\\\Data\\\\Data_lstm.pickle\\\"\";\n",
       "                var nbb_cells = Jupyter.notebook.get_cells();\n",
       "                for (var i = 0; i < nbb_cells.length; ++i) {\n",
       "                    if (nbb_cells[i].input_prompt_number == nbb_cell_id) {\n",
       "                        if (nbb_cells[i].get_text() == nbb_unformatted_code) {\n",
       "                             nbb_cells[i].set_text(nbb_formatted_code);\n",
       "                        }\n",
       "                        break;\n",
       "                    }\n",
       "                }\n",
       "            }, 500);\n",
       "            "
      ],
      "text/plain": [
       "<IPython.core.display.Javascript object>"
      ]
     },
     "metadata": {},
     "output_type": "display_data"
    }
   ],
   "source": [
    "file = r\"D:\\tencent files\\chrome Download\\Research\\DEA\\DEA_carbon market\\Data\\Data_lstm.pickle\""
   ]
  },
  {
   "cell_type": "code",
   "execution_count": 6,
   "metadata": {},
   "outputs": [
    {
     "data": {
      "application/javascript": [
       "\n",
       "            setTimeout(function() {\n",
       "                var nbb_cell_id = 6;\n",
       "                var nbb_unformatted_code = \"column_in = [\\\"Population\\\",\\\"Fixed asset\\\",\\\"Energy consumption\\\"]\\ncolumn_out = [\\\"GDP\\\"]\\ncolumn_undout = ['CO2 emisson']\";\n",
       "                var nbb_formatted_code = \"column_in = [\\\"Population\\\", \\\"Fixed asset\\\", \\\"Energy consumption\\\"]\\ncolumn_out = [\\\"GDP\\\"]\\ncolumn_undout = [\\\"CO2 emisson\\\"]\";\n",
       "                var nbb_cells = Jupyter.notebook.get_cells();\n",
       "                for (var i = 0; i < nbb_cells.length; ++i) {\n",
       "                    if (nbb_cells[i].input_prompt_number == nbb_cell_id) {\n",
       "                        if (nbb_cells[i].get_text() == nbb_unformatted_code) {\n",
       "                             nbb_cells[i].set_text(nbb_formatted_code);\n",
       "                        }\n",
       "                        break;\n",
       "                    }\n",
       "                }\n",
       "            }, 500);\n",
       "            "
      ],
      "text/plain": [
       "<IPython.core.display.Javascript object>"
      ]
     },
     "metadata": {},
     "output_type": "display_data"
    }
   ],
   "source": [
    "column_in = [\"Population\", \"Fixed asset\", \"Energy consumption\"]\n",
    "column_out = [\"GDP\"]\n",
    "column_undout = [\"CO2 emisson\"]"
   ]
  },
  {
   "cell_type": "code",
   "execution_count": 9,
   "metadata": {},
   "outputs": [
    {
     "data": {
      "application/javascript": [
       "\n",
       "            setTimeout(function() {\n",
       "                var nbb_cell_id = 9;\n",
       "                var nbb_unformatted_code = \"data_in = read_excel(file, column_in)\\ndata_out = read_excel(file, column_out)\\ndata_undout =read_excel(file,column_out)\";\n",
       "                var nbb_formatted_code = \"data_in = read_excel(file, column_in)\\ndata_out = read_excel(file, column_out)\\ndata_undout = read_excel(file, column_out)\";\n",
       "                var nbb_cells = Jupyter.notebook.get_cells();\n",
       "                for (var i = 0; i < nbb_cells.length; ++i) {\n",
       "                    if (nbb_cells[i].input_prompt_number == nbb_cell_id) {\n",
       "                        if (nbb_cells[i].get_text() == nbb_unformatted_code) {\n",
       "                             nbb_cells[i].set_text(nbb_formatted_code);\n",
       "                        }\n",
       "                        break;\n",
       "                    }\n",
       "                }\n",
       "            }, 500);\n",
       "            "
      ],
      "text/plain": [
       "<IPython.core.display.Javascript object>"
      ]
     },
     "metadata": {},
     "output_type": "display_data"
    }
   ],
   "source": [
    "data_in = read_excel(file, column_in)\n",
    "data_out = read_excel(file, column_out)\n",
    "data_undout = read_excel(file, column_out)"
   ]
  },
  {
   "cell_type": "code",
   "execution_count": 15,
   "metadata": {},
   "outputs": [
    {
     "ename": "KeyError",
     "evalue": "0",
     "output_type": "error",
     "traceback": [
      "\u001b[1;31m---------------------------------------------------------------------------\u001b[0m",
      "\u001b[1;31mKeyError\u001b[0m                                  Traceback (most recent call last)",
      "\u001b[1;32mD:\\Users\\sheep\\anaconda3\\lib\\site-packages\\pandas\\core\\indexes\\base.py\u001b[0m in \u001b[0;36mget_loc\u001b[1;34m(self, key, method, tolerance)\u001b[0m\n\u001b[0;32m   2888\u001b[0m             \u001b[1;32mtry\u001b[0m\u001b[1;33m:\u001b[0m\u001b[1;33m\u001b[0m\u001b[1;33m\u001b[0m\u001b[0m\n\u001b[1;32m-> 2889\u001b[1;33m                 \u001b[1;32mreturn\u001b[0m \u001b[0mself\u001b[0m\u001b[1;33m.\u001b[0m\u001b[0m_engine\u001b[0m\u001b[1;33m.\u001b[0m\u001b[0mget_loc\u001b[0m\u001b[1;33m(\u001b[0m\u001b[0mcasted_key\u001b[0m\u001b[1;33m)\u001b[0m\u001b[1;33m\u001b[0m\u001b[1;33m\u001b[0m\u001b[0m\n\u001b[0m\u001b[0;32m   2890\u001b[0m             \u001b[1;32mexcept\u001b[0m \u001b[0mKeyError\u001b[0m \u001b[1;32mas\u001b[0m \u001b[0merr\u001b[0m\u001b[1;33m:\u001b[0m\u001b[1;33m\u001b[0m\u001b[1;33m\u001b[0m\u001b[0m\n",
      "\u001b[1;32mpandas\\_libs\\index.pyx\u001b[0m in \u001b[0;36mpandas._libs.index.IndexEngine.get_loc\u001b[1;34m()\u001b[0m\n",
      "\u001b[1;32mpandas\\_libs\\index.pyx\u001b[0m in \u001b[0;36mpandas._libs.index.IndexEngine.get_loc\u001b[1;34m()\u001b[0m\n",
      "\u001b[1;32mpandas\\_libs\\hashtable_class_helper.pxi\u001b[0m in \u001b[0;36mpandas._libs.hashtable.PyObjectHashTable.get_item\u001b[1;34m()\u001b[0m\n",
      "\u001b[1;32mpandas\\_libs\\hashtable_class_helper.pxi\u001b[0m in \u001b[0;36mpandas._libs.hashtable.PyObjectHashTable.get_item\u001b[1;34m()\u001b[0m\n",
      "\u001b[1;31mKeyError\u001b[0m: 0",
      "\nThe above exception was the direct cause of the following exception:\n",
      "\u001b[1;31mKeyError\u001b[0m                                  Traceback (most recent call last)",
      "\u001b[1;32m<ipython-input-15-21565764941e>\u001b[0m in \u001b[0;36m<module>\u001b[1;34m\u001b[0m\n\u001b[1;32m----> 1\u001b[1;33m \u001b[0mZSG_DEAProblem\u001b[0m\u001b[1;33m(\u001b[0m\u001b[0mdata_in\u001b[0m\u001b[1;33m,\u001b[0m \u001b[0mdata_out\u001b[0m\u001b[1;33m,\u001b[0m \u001b[0mdata_undout\u001b[0m\u001b[1;33m)\u001b[0m\u001b[1;33m.\u001b[0m\u001b[0madjust_und_output\u001b[0m\u001b[1;33m(\u001b[0m\u001b[1;33m)\u001b[0m\u001b[1;33m.\u001b[0m\u001b[0mround\u001b[0m\u001b[1;33m(\u001b[0m\u001b[0mdecimals\u001b[0m\u001b[1;33m=\u001b[0m\u001b[1;36m4\u001b[0m\u001b[1;33m)\u001b[0m\u001b[1;33m\u001b[0m\u001b[1;33m\u001b[0m\u001b[0m\n\u001b[0m",
      "\u001b[1;32m<ipython-input-14-7830dde18774>\u001b[0m in \u001b[0;36madjust_und_output\u001b[1;34m(self)\u001b[0m\n\u001b[0;32m    147\u001b[0m                 \u001b[1;32melse\u001b[0m\u001b[1;33m:\u001b[0m\u001b[1;33m\u001b[0m\u001b[1;33m\u001b[0m\u001b[0m\n\u001b[0;32m    148\u001b[0m                     inefficient_DMU_b = -sum(\n\u001b[1;32m--> 149\u001b[1;33m                         \u001b[1;33m[\u001b[0m\u001b[0mself\u001b[0m\u001b[1;33m.\u001b[0m\u001b[0mbad_outs\u001b[0m\u001b[1;33m[\u001b[0m\u001b[0ms\u001b[0m\u001b[1;33m]\u001b[0m\u001b[1;33m[\u001b[0m\u001b[0mj\u001b[0m\u001b[1;33m]\u001b[0m \u001b[1;32mfor\u001b[0m \u001b[0ms\u001b[0m \u001b[1;32min\u001b[0m \u001b[0mrange\u001b[0m\u001b[1;33m(\u001b[0m\u001b[0mself\u001b[0m\u001b[1;33m.\u001b[0m\u001b[0mbad_outs\u001b[0m\u001b[1;33m.\u001b[0m\u001b[0mshape\u001b[0m\u001b[1;33m[\u001b[0m\u001b[1;36m1\u001b[0m\u001b[1;33m]\u001b[0m\u001b[1;33m)\u001b[0m\u001b[1;33m]\u001b[0m\u001b[1;33m\u001b[0m\u001b[1;33m\u001b[0m\u001b[0m\n\u001b[0m\u001b[0;32m    150\u001b[0m                     )\n\u001b[0;32m    151\u001b[0m \u001b[1;33m\u001b[0m\u001b[0m\n",
      "\u001b[1;32m<ipython-input-14-7830dde18774>\u001b[0m in \u001b[0;36m<listcomp>\u001b[1;34m(.0)\u001b[0m\n\u001b[0;32m    147\u001b[0m                 \u001b[1;32melse\u001b[0m\u001b[1;33m:\u001b[0m\u001b[1;33m\u001b[0m\u001b[1;33m\u001b[0m\u001b[0m\n\u001b[0;32m    148\u001b[0m                     inefficient_DMU_b = -sum(\n\u001b[1;32m--> 149\u001b[1;33m                         \u001b[1;33m[\u001b[0m\u001b[0mself\u001b[0m\u001b[1;33m.\u001b[0m\u001b[0mbad_outs\u001b[0m\u001b[1;33m[\u001b[0m\u001b[0ms\u001b[0m\u001b[1;33m]\u001b[0m\u001b[1;33m[\u001b[0m\u001b[0mj\u001b[0m\u001b[1;33m]\u001b[0m \u001b[1;32mfor\u001b[0m \u001b[0ms\u001b[0m \u001b[1;32min\u001b[0m \u001b[0mrange\u001b[0m\u001b[1;33m(\u001b[0m\u001b[0mself\u001b[0m\u001b[1;33m.\u001b[0m\u001b[0mbad_outs\u001b[0m\u001b[1;33m.\u001b[0m\u001b[0mshape\u001b[0m\u001b[1;33m[\u001b[0m\u001b[1;36m1\u001b[0m\u001b[1;33m]\u001b[0m\u001b[1;33m)\u001b[0m\u001b[1;33m]\u001b[0m\u001b[1;33m\u001b[0m\u001b[1;33m\u001b[0m\u001b[0m\n\u001b[0m\u001b[0;32m    150\u001b[0m                     )\n\u001b[0;32m    151\u001b[0m \u001b[1;33m\u001b[0m\u001b[0m\n",
      "\u001b[1;32mD:\\Users\\sheep\\anaconda3\\lib\\site-packages\\pandas\\core\\frame.py\u001b[0m in \u001b[0;36m__getitem__\u001b[1;34m(self, key)\u001b[0m\n\u001b[0;32m   2900\u001b[0m             \u001b[1;32mif\u001b[0m \u001b[0mself\u001b[0m\u001b[1;33m.\u001b[0m\u001b[0mcolumns\u001b[0m\u001b[1;33m.\u001b[0m\u001b[0mnlevels\u001b[0m \u001b[1;33m>\u001b[0m \u001b[1;36m1\u001b[0m\u001b[1;33m:\u001b[0m\u001b[1;33m\u001b[0m\u001b[1;33m\u001b[0m\u001b[0m\n\u001b[0;32m   2901\u001b[0m                 \u001b[1;32mreturn\u001b[0m \u001b[0mself\u001b[0m\u001b[1;33m.\u001b[0m\u001b[0m_getitem_multilevel\u001b[0m\u001b[1;33m(\u001b[0m\u001b[0mkey\u001b[0m\u001b[1;33m)\u001b[0m\u001b[1;33m\u001b[0m\u001b[1;33m\u001b[0m\u001b[0m\n\u001b[1;32m-> 2902\u001b[1;33m             \u001b[0mindexer\u001b[0m \u001b[1;33m=\u001b[0m \u001b[0mself\u001b[0m\u001b[1;33m.\u001b[0m\u001b[0mcolumns\u001b[0m\u001b[1;33m.\u001b[0m\u001b[0mget_loc\u001b[0m\u001b[1;33m(\u001b[0m\u001b[0mkey\u001b[0m\u001b[1;33m)\u001b[0m\u001b[1;33m\u001b[0m\u001b[1;33m\u001b[0m\u001b[0m\n\u001b[0m\u001b[0;32m   2903\u001b[0m             \u001b[1;32mif\u001b[0m \u001b[0mis_integer\u001b[0m\u001b[1;33m(\u001b[0m\u001b[0mindexer\u001b[0m\u001b[1;33m)\u001b[0m\u001b[1;33m:\u001b[0m\u001b[1;33m\u001b[0m\u001b[1;33m\u001b[0m\u001b[0m\n\u001b[0;32m   2904\u001b[0m                 \u001b[0mindexer\u001b[0m \u001b[1;33m=\u001b[0m \u001b[1;33m[\u001b[0m\u001b[0mindexer\u001b[0m\u001b[1;33m]\u001b[0m\u001b[1;33m\u001b[0m\u001b[1;33m\u001b[0m\u001b[0m\n",
      "\u001b[1;32mD:\\Users\\sheep\\anaconda3\\lib\\site-packages\\pandas\\core\\indexes\\base.py\u001b[0m in \u001b[0;36mget_loc\u001b[1;34m(self, key, method, tolerance)\u001b[0m\n\u001b[0;32m   2889\u001b[0m                 \u001b[1;32mreturn\u001b[0m \u001b[0mself\u001b[0m\u001b[1;33m.\u001b[0m\u001b[0m_engine\u001b[0m\u001b[1;33m.\u001b[0m\u001b[0mget_loc\u001b[0m\u001b[1;33m(\u001b[0m\u001b[0mcasted_key\u001b[0m\u001b[1;33m)\u001b[0m\u001b[1;33m\u001b[0m\u001b[1;33m\u001b[0m\u001b[0m\n\u001b[0;32m   2890\u001b[0m             \u001b[1;32mexcept\u001b[0m \u001b[0mKeyError\u001b[0m \u001b[1;32mas\u001b[0m \u001b[0merr\u001b[0m\u001b[1;33m:\u001b[0m\u001b[1;33m\u001b[0m\u001b[1;33m\u001b[0m\u001b[0m\n\u001b[1;32m-> 2891\u001b[1;33m                 \u001b[1;32mraise\u001b[0m \u001b[0mKeyError\u001b[0m\u001b[1;33m(\u001b[0m\u001b[0mkey\u001b[0m\u001b[1;33m)\u001b[0m \u001b[1;32mfrom\u001b[0m \u001b[0merr\u001b[0m\u001b[1;33m\u001b[0m\u001b[1;33m\u001b[0m\u001b[0m\n\u001b[0m\u001b[0;32m   2892\u001b[0m \u001b[1;33m\u001b[0m\u001b[0m\n\u001b[0;32m   2893\u001b[0m         \u001b[1;32mif\u001b[0m \u001b[0mtolerance\u001b[0m \u001b[1;32mis\u001b[0m \u001b[1;32mnot\u001b[0m \u001b[1;32mNone\u001b[0m\u001b[1;33m:\u001b[0m\u001b[1;33m\u001b[0m\u001b[1;33m\u001b[0m\u001b[0m\n",
      "\u001b[1;31mKeyError\u001b[0m: 0"
     ]
    },
    {
     "data": {
      "application/javascript": [
       "\n",
       "            setTimeout(function() {\n",
       "                var nbb_cell_id = 15;\n",
       "                var nbb_unformatted_code = \"ZSG_DEAProblem(data_in, data_out, data_undout).adjust_und_output().round(decimals=4)\";\n",
       "                var nbb_formatted_code = \"ZSG_DEAProblem(data_in, data_out, data_undout).adjust_und_output().round(decimals=4)\";\n",
       "                var nbb_cells = Jupyter.notebook.get_cells();\n",
       "                for (var i = 0; i < nbb_cells.length; ++i) {\n",
       "                    if (nbb_cells[i].input_prompt_number == nbb_cell_id) {\n",
       "                        if (nbb_cells[i].get_text() == nbb_unformatted_code) {\n",
       "                             nbb_cells[i].set_text(nbb_formatted_code);\n",
       "                        }\n",
       "                        break;\n",
       "                    }\n",
       "                }\n",
       "            }, 500);\n",
       "            "
      ],
      "text/plain": [
       "<IPython.core.display.Javascript object>"
      ]
     },
     "metadata": {},
     "output_type": "display_data"
    }
   ],
   "source": [
    "ZSG_DEAProblem(data_in, data_out, data_undout).adjust_und_output().round(decimals=4)"
   ]
  },
  {
   "cell_type": "code",
   "execution_count": null,
   "metadata": {},
   "outputs": [],
   "source": [
    "ZSG_DEAProblem(X, y, b, weight).adjust_und_output().round(decimals=4)"
   ]
  }
 ],
 "metadata": {
  "kernelspec": {
   "display_name": "base",
   "language": "python",
   "name": "base"
  },
  "language_info": {
   "codemirror_mode": {
    "name": "ipython",
    "version": 3
   },
   "file_extension": ".py",
   "mimetype": "text/x-python",
   "name": "python",
   "nbconvert_exporter": "python",
   "pygments_lexer": "ipython3",
   "version": "3.7.3"
  },
  "toc": {
   "base_numbering": 1,
   "nav_menu": {},
   "number_sections": true,
   "sideBar": true,
   "skip_h1_title": false,
   "title_cell": "Table of Contents",
   "title_sidebar": "Contents",
   "toc_cell": false,
   "toc_position": {},
   "toc_section_display": true,
   "toc_window_display": false
  }
 },
 "nbformat": 4,
 "nbformat_minor": 4
}
